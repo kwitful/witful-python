{
 "cells": [
  {
   "cell_type": "markdown",
   "metadata": {},
   "source": [
    "# Part 5 - Useful Concepts\n",
    "\n",
    "Before we move onto defining functions, there are a few useful things to know about Python.\n",
    "\n",
    "Let's see what they are!"
   ]
  },
  {
   "cell_type": "markdown",
   "metadata": {},
   "source": [
    "## Comprehensions \n",
    "\n",
    "Comprehensions allow you to write single line loops to quickly fill lists (or other collection variables) with values. See the examples below:"
   ]
  },
  {
   "cell_type": "code",
   "execution_count": 1,
   "metadata": {},
   "outputs": [
    {
     "data": {
      "text/plain": [
       "[0, 1, 2, 3, 4, 5, 6, 7, 8, 9, 10, 11, 12, 13, 14]"
      ]
     },
     "execution_count": 1,
     "metadata": {},
     "output_type": "execute_result"
    }
   ],
   "source": [
    "# Without comprehension\n",
    "wc_list = []\n",
    "\n",
    "for i in range (15):\n",
    "    wc_list.append(i)\n",
    "\n",
    "wc_list"
   ]
  },
  {
   "cell_type": "code",
   "execution_count": 2,
   "metadata": {},
   "outputs": [
    {
     "data": {
      "text/plain": [
       "[0, 1, 2, 3, 4, 5, 6, 7, 8, 9, 10, 11, 12, 13, 14]"
      ]
     },
     "execution_count": 2,
     "metadata": {},
     "output_type": "execute_result"
    }
   ],
   "source": [
    "# Define a list with values 0 to 15 (15 excluded)\n",
    "comp_list = [i for i in range(15)]\n",
    "comp_list"
   ]
  },
  {
   "cell_type": "code",
   "execution_count": 3,
   "metadata": {},
   "outputs": [
    {
     "data": {
      "text/plain": [
       "[0, 1, 4, 9, 16]"
      ]
     },
     "execution_count": 3,
     "metadata": {},
     "output_type": "execute_result"
    }
   ],
   "source": [
    "sqfive_list = []\n",
    "\n",
    "for i in range(5):\n",
    "    sqfive_list.append(i ** 2)\n",
    "\n",
    "sqfive_list"
   ]
  },
  {
   "cell_type": "code",
   "execution_count": 4,
   "metadata": {},
   "outputs": [
    {
     "data": {
      "text/plain": [
       "[0, 1, 4, 9, 16]"
      ]
     },
     "execution_count": 4,
     "metadata": {},
     "output_type": "execute_result"
    }
   ],
   "source": [
    "compsqfive = [i ** 2 for i in range(5) ]\n",
    "compsqfive"
   ]
  },
  {
   "cell_type": "code",
   "execution_count": 5,
   "metadata": {},
   "outputs": [
    {
     "data": {
      "text/plain": [
       "[1, 4, 9, 16, 25, 36, 49, 64]"
      ]
     },
     "execution_count": 5,
     "metadata": {},
     "output_type": "execute_result"
    }
   ],
   "source": [
    "# Define a list\n",
    "a_list = [1, 2, 3, 4, 5, 6, 7, 8]\n",
    "\n",
    "\n",
    "# Define another list with a comprehension based on the elements of the previous list\n",
    "b_list = [x ** 2 for x in a_list]\n",
    "b_list"
   ]
  },
  {
   "cell_type": "code",
   "execution_count": 6,
   "metadata": {},
   "outputs": [
    {
     "data": {
      "text/plain": [
       "{'A': [1, 4, 9, 16, 25, 36, 49, 64],\n",
       " 'B': [1, 64, 729, 4096, 15625, 46656, 117649, 262144]}"
      ]
     },
     "execution_count": 6,
     "metadata": {},
     "output_type": "execute_result"
    }
   ],
   "source": [
    "ab_diction = {'A' : [x ** 2 for x in a_list], 'B': [x ** 3 for x in b_list]}\n",
    "ab_diction"
   ]
  },
  {
   "cell_type": "code",
   "execution_count": 7,
   "metadata": {},
   "outputs": [
    {
     "data": {
      "text/plain": [
       "([1, 4, 9, 16, 25, 36, 49, 64], [1, 16, 81, 256, 625, 1296, 2401, 4096])"
      ]
     },
     "execution_count": 7,
     "metadata": {},
     "output_type": "execute_result"
    }
   ],
   "source": [
    "c_tuple = ((list(x ** 2 for x in a_list)),(list(y**2 for y in b_list)))\n",
    "c_tuple"
   ]
  },
  {
   "cell_type": "markdown",
   "metadata": {},
   "source": [
    "## Formatted Strings"
   ]
  },
  {
   "cell_type": "markdown",
   "metadata": {},
   "source": [
    "Formatted strings allow you to make other elements of your script (variables, returned function values, loops etc.) a part of a string. See the examples below to understand how they work: "
   ]
  },
  {
   "cell_type": "code",
   "execution_count": 8,
   "metadata": {},
   "outputs": [
    {
     "name": "stdout",
     "output_type": "stream",
     "text": [
      "3 substracted from 9 equals 6\n"
     ]
    }
   ],
   "source": [
    "x = 9\n",
    "y = 3\n",
    "\n",
    "print (\"{} substracted from {} equals {}\".format(y, x, x - y)) # Note that the order of the arguments of this .format method-function is important"
   ]
  },
  {
   "cell_type": "code",
   "execution_count": 9,
   "metadata": {},
   "outputs": [
    {
     "name": "stdout",
     "output_type": "stream",
     "text": [
      "[1, 2, 3, 4, 5, 6, 7, 8] are elements of s_list\n"
     ]
    }
   ],
   "source": [
    "s_list = [1, 2, 3, 4, 5, 6, 7, 8]\n",
    "\n",
    "print (\"{} are elements of s_list\".format(s_list))"
   ]
  },
  {
   "cell_type": "code",
   "execution_count": 10,
   "metadata": {},
   "outputs": [
    {
     "name": "stdout",
     "output_type": "stream",
     "text": [
      "[1, 4, 9, 16, 25, 36, 49, 64] are the squared elements of s_list\n"
     ]
    }
   ],
   "source": [
    "s_list = [1, 2, 3, 4, 5, 6, 7, 8]\n",
    "\n",
    "print (\"{} are the squared elements of s_list\".format(list(x ** 2 for x in s_list)))"
   ]
  },
  {
   "cell_type": "markdown",
   "metadata": {},
   "source": [
    "Formatted strings can also be used in the form of f-strings by typing the letter f before the string quotation marks. This eliminates the need for the .format method and can be performed as follows:"
   ]
  },
  {
   "cell_type": "code",
   "execution_count": 11,
   "metadata": {},
   "outputs": [
    {
     "name": "stdout",
     "output_type": "stream",
     "text": [
      "[1, 4, 9, 16, 25, 36, 49, 64] are the squared elements of s_list\n"
     ]
    }
   ],
   "source": [
    "s_list = [1, 2, 3, 4, 5, 6, 7, 8]\n",
    "\n",
    "print (f\"{list(x ** 2 for x in s_list)} are the squared elements of s_list\")"
   ]
  },
  {
   "cell_type": "markdown",
   "metadata": {},
   "source": [
    "## Ternary Operators"
   ]
  },
  {
   "cell_type": "markdown",
   "metadata": {},
   "source": [
    "Ternary operators allow you to use conditional-logical operators in a single line outside if-else conditional statements. See the example below:"
   ]
  },
  {
   "cell_type": "code",
   "execution_count": 12,
   "metadata": {},
   "outputs": [
    {
     "name": "stdout",
     "output_type": "stream",
     "text": [
      "The difference between a and b is 5\n"
     ]
    }
   ],
   "source": [
    "a = 15\n",
    "b = 10\n",
    "print (\"The difference between a and b is {}\".format(a - b if a > b else b - a))\n"
   ]
  },
  {
   "cell_type": "code",
   "execution_count": 13,
   "metadata": {},
   "outputs": [
    {
     "name": "stdout",
     "output_type": "stream",
     "text": [
      "The difference between a and b is 5\n"
     ]
    }
   ],
   "source": [
    "# Change the variable values above\n",
    "a = 10\n",
    "b = 15\n",
    "print (\"The difference between a and b is {}\".format(a - b if a > b else b - a))"
   ]
  }
 ],
 "metadata": {
  "kernelspec": {
   "display_name": "Python 3 (ipykernel)",
   "language": "python",
   "name": "python3"
  },
  "language_info": {
   "codemirror_mode": {
    "name": "ipython",
    "version": 3
   },
   "file_extension": ".py",
   "mimetype": "text/x-python",
   "name": "python",
   "nbconvert_exporter": "python",
   "pygments_lexer": "ipython3",
   "version": "3.9.12"
  }
 },
 "nbformat": 4,
 "nbformat_minor": 2
}
