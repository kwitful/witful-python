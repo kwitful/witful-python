{
 "cells": [
  {
   "attachments": {},
   "cell_type": "markdown",
   "metadata": {},
   "source": [
    "# Part 6 - Defining Functions\n",
    "by Kaan Kabalak @witfuldata.com"
   ]
  },
  {
   "attachments": {},
   "cell_type": "markdown",
   "metadata": {},
   "source": [
    "## Why Define Functions ?"
   ]
  },
  {
   "attachments": {},
   "cell_type": "markdown",
   "metadata": {},
   "source": [
    "Why do you need to know how to define your own functions:\n",
    "\n",
    "* Sometimes you will not find the functions you need in libraries\n",
    "* Sometimes the library functions will not be very suitable for the task\n",
    "* Sometimes you will need to do things in your own fine-tuned way\n",
    "* Learning how to define functions will tell you a lot about how programming works\n",
    "\n",
    "So, let's go!"
   ]
  },
  {
   "attachments": {},
   "cell_type": "markdown",
   "metadata": {},
   "source": [
    "To define a simple function follow these simple steps:\n",
    "\n",
    "1 - Use the def keyword to give a name to your function, add ( ) next to your function name followed by :\n",
    "\n",
    "2 - Put a parameter in the ( )\n",
    "\n",
    "3 - Define what the function will do with the values passed into the parameters (these values are what we call arguments)\n",
    "\n",
    "\n",
    "Check the code block below:"
   ]
  },
  {
   "cell_type": "code",
   "execution_count": null,
   "metadata": {},
   "outputs": [],
   "source": [
    "# Steps 1 & 2\n",
    "def multi_seven (a):\n",
    "    # Step 3 (Use the return keyword to return a value)\n",
    "    return a * 7 "
   ]
  },
  {
   "attachments": {},
   "cell_type": "markdown",
   "metadata": {},
   "source": [
    "The function we have defined will return a value we choose, multiplied by 7 when we call it. Calling a function basically means using it.\n",
    "\n",
    "See the example below:"
   ]
  },
  {
   "cell_type": "code",
   "execution_count": null,
   "metadata": {},
   "outputs": [],
   "source": [
    "# Call the function with an argument value\n",
    "multi_seven (5)"
   ]
  },
  {
   "cell_type": "code",
   "execution_count": null,
   "metadata": {},
   "outputs": [],
   "source": [
    "# Call the function with another argument value\n",
    "multi_seven (12)"
   ]
  },
  {
   "attachments": {},
   "cell_type": "markdown",
   "metadata": {},
   "source": [
    "We can also define functions that do something with more than one argument. Actually, we can define functions with as many arguments as we want. \n",
    "\n",
    "Let's define a function that takes a number ( let's name this a in our function ) and returns its percentage in terms of another number ( let's call this second number b )"
   ]
  },
  {
   "cell_type": "code",
   "execution_count": null,
   "metadata": {},
   "outputs": [],
   "source": [
    "# Define a function with two arguments\n",
    "def take_percentage (a,b):\n",
    "    # Return % b of a\n",
    "    return a * b/100"
   ]
  },
  {
   "cell_type": "code",
   "execution_count": null,
   "metadata": {},
   "outputs": [],
   "source": [
    "# Call the function with two argument values\n",
    "take_percentage (50,10)"
   ]
  },
  {
   "cell_type": "code",
   "execution_count": null,
   "metadata": {},
   "outputs": [],
   "source": [
    "# Call the function with other argument values\n",
    "take_percentage (43,7)"
   ]
  },
  {
   "attachments": {},
   "cell_type": "markdown",
   "metadata": {},
   "source": [
    "## Understanding Positional, Keyword, Arbitrary and Arbitrary Keyword Arguments\n",
    "\n",
    "In practice, there are 5 types of function arguments that will be useful for us:\n",
    "\n",
    "* Positional\n",
    "* Keyword\n",
    "* Default\n",
    "* Arbitrary\n",
    "* Arbitrary Keyword\n",
    "\n",
    "Let's take a look at each of these types with some examples"
   ]
  },
  {
   "attachments": {},
   "cell_type": "markdown",
   "metadata": {},
   "source": [
    "### Positional Arguments\n",
    "\n",
    "So far we have been dealing with positional arguments. They are called positional arguments because their position matters. For example:"
   ]
  },
  {
   "cell_type": "code",
   "execution_count": null,
   "metadata": {},
   "outputs": [],
   "source": [
    "# Define a function\n",
    "def subst (a, b):\n",
    "    return a - b"
   ]
  },
  {
   "cell_type": "code",
   "execution_count": null,
   "metadata": {},
   "outputs": [],
   "source": [
    "# Call it with a larger than b\n",
    "subst (8, 5)"
   ]
  },
  {
   "cell_type": "code",
   "execution_count": null,
   "metadata": {},
   "outputs": [],
   "source": [
    "# Call it with b larger than a\n",
    "subst (5, 8)"
   ]
  },
  {
   "attachments": {},
   "cell_type": "markdown",
   "metadata": {},
   "source": [
    "As you can see, the function we defined takes into consideration <i> only </i> the position of parameters when we pass argument values. The values of the passed arguments do not matter. We must take the argument positions into consideration when calling the function."
   ]
  },
  {
   "attachments": {},
   "cell_type": "markdown",
   "metadata": {},
   "source": [
    "### Keyword Arguments\n"
   ]
  },
  {
   "attachments": {},
   "cell_type": "markdown",
   "metadata": {},
   "source": [
    "Using keyword arguments is actually more about the way we call a function rather than the way we define it. When we call a function by specifying the parameter names and the argument values we want to assign to them, the operation that was defined in the function definition will be carried out regardless of the position of the arguments."
   ]
  },
  {
   "cell_type": "code",
   "execution_count": null,
   "metadata": {},
   "outputs": [],
   "source": [
    "# Define a function\n",
    "def kfunc (a, b):\n",
    "    return a - b\n"
   ]
  },
  {
   "cell_type": "code",
   "execution_count": null,
   "metadata": {},
   "outputs": [],
   "source": [
    "# Call it with a positioning like (a, b)\n",
    "kfunc (a = 8, b = 5)"
   ]
  },
  {
   "cell_type": "code",
   "execution_count": null,
   "metadata": {},
   "outputs": [],
   "source": [
    "# Call it with a positioning like (b, a)\n",
    "kfunc (b = 5, a = 8)"
   ]
  },
  {
   "attachments": {},
   "cell_type": "markdown",
   "metadata": {},
   "source": [
    "As you can see, unlike calling a function with positional arguments, the positioning of the call does not matter when we call the function with assigned keyword values."
   ]
  },
  {
   "attachments": {},
   "cell_type": "markdown",
   "metadata": {},
   "source": [
    "### Default Arguments\n",
    "\n",
    "The topic of default arguments is closely related to keyword arguments. Default arguments are actually keyword argument values which we pass into parameters when we define a function. Unlike keyword arguments which we have just seen above, default arguments are defined by us when we define the function. \n",
    "\n",
    " Let's understand what this actually means with some examples. \n",
    " \n",
    " When we define a function, we can assign default values to some of the parameters. These assigned values are known as default argument values. When we call a function, the default value will be taken into consideration unless we change it. Another important thing to know is that when we assign a default argument value to a parameter, we do not have to include it in the function call. It will affect the call's outcome even when we do no use it. See the example below:"
   ]
  },
  {
   "cell_type": "code",
   "execution_count": null,
   "metadata": {},
   "outputs": [],
   "source": [
    "# Define a function, assing a default argument value to one of the parameters \n",
    "def kd_func (x, y, z = 4):\n",
    "    return (x * y) * z"
   ]
  },
  {
   "cell_type": "code",
   "execution_count": null,
   "metadata": {},
   "outputs": [],
   "source": [
    "# Call the function without using the default argument\n",
    "kd_func (4, 5)"
   ]
  },
  {
   "attachments": {},
   "cell_type": "markdown",
   "metadata": {},
   "source": [
    "As you can see, we were able to call the function without using a third argument. The function operated on the third's parameter default argument value which we had defined with the function itself.\n",
    "\n",
    "Let's play around with the same function by changing the default argument value."
   ]
  },
  {
   "cell_type": "code",
   "execution_count": null,
   "metadata": {},
   "outputs": [],
   "source": [
    "kd_func (4, 5, z = 3)"
   ]
  },
  {
   "attachments": {},
   "cell_type": "markdown",
   "metadata": {},
   "source": [
    "We can also use default argument values to allow the user to choose the type of operation to be carried out. See the example below:"
   ]
  },
  {
   "cell_type": "code",
   "execution_count": null,
   "metadata": {},
   "outputs": [],
   "source": [
    "# Define a function with a default argument\n",
    "def un_opr (x, y, opr = \"divide\"):\n",
    "    # Specify what will happen when the default argument value is left untouched\n",
    "    if opr == \"divide\":\n",
    "        return (x / y)\n",
    "    # Specify what will happen when the default argument value is changed to something else \n",
    "    elif opr == \"multiply\":\n",
    "        return (x * y)\n",
    "    else:\n",
    "        pass # Use the pass keyword to do nothing"
   ]
  },
  {
   "cell_type": "code",
   "execution_count": null,
   "metadata": {},
   "outputs": [],
   "source": [
    "# Not neccessary to pass the opr if we want it with its default value\n",
    "un_opr (4, 2)"
   ]
  },
  {
   "cell_type": "code",
   "execution_count": null,
   "metadata": {},
   "outputs": [],
   "source": [
    "# Pass the opr argument with a value different than the default\n",
    "un_opr (4, 2, opr = \"multiply\")"
   ]
  },
  {
   "attachments": {},
   "cell_type": "markdown",
   "metadata": {},
   "source": [
    "### Arbitrary Arguments (*args)\n",
    "Say that you want to define a function that will do something with the arguments, regardless of the number of the arguments. For example you want to define a function that will return the squared value of every argument passed into it. How can you do this? \n",
    "\n",
    "There are two ways:\n",
    "\n",
    "Let's first look at the inefficient way to do this:"
   ]
  },
  {
   "cell_type": "code",
   "execution_count": 1,
   "metadata": {},
   "outputs": [
    {
     "name": "stdout",
     "output_type": "stream",
     "text": [
      "4\n",
      "9\n",
      "16\n",
      "25\n",
      "36\n"
     ]
    }
   ],
   "source": [
    "# Define a function with one argument which (only presumably !!) will be a list\n",
    "def squared_number (b):\n",
    "    # Iterate over the list with a for loop\n",
    "    for x in b:\n",
    "        # Print the square of the elements\n",
    "        print (x ** 2)\n",
    "        \n",
    "squared_number ([2,3,4,5,6])"
   ]
  },
  {
   "attachments": {},
   "cell_type": "markdown",
   "metadata": {},
   "source": [
    "This is the wrong approach because:\n",
    "\n",
    "* The end user may not know that it is neccessary to pass a list as an argument\n",
    "* The function will only accept one list. A second list passed by the end user will cause the function to break and raise an error.\n",
    "\n",
    "Here is a demonstration of how things can go bad:"
   ]
  },
  {
   "cell_type": "code",
   "execution_count": 2,
   "metadata": {},
   "outputs": [
    {
     "ename": "TypeError",
     "evalue": "squared_number() takes 1 positional argument but 5 were given",
     "output_type": "error",
     "traceback": [
      "\u001b[1;31m---------------------------------------------------------------------------\u001b[0m",
      "\u001b[1;31mTypeError\u001b[0m                                 Traceback (most recent call last)",
      "\u001b[1;32mc:\\Users\\k\\StatisticsIntroParts\\part6_functions.ipynb Cell 37\u001b[0m in \u001b[0;36m<cell line: 1>\u001b[1;34m()\u001b[0m\n\u001b[1;32m----> <a href='vscode-notebook-cell:/c%3A/Users/k/StatisticsIntroParts/part6_functions.ipynb#X51sZmlsZQ%3D%3D?line=0'>1</a>\u001b[0m squared_number (\u001b[39m2\u001b[39;49m,\u001b[39m3\u001b[39;49m,\u001b[39m4\u001b[39;49m,\u001b[39m5\u001b[39;49m,\u001b[39m6\u001b[39;49m)\n",
      "\u001b[1;31mTypeError\u001b[0m: squared_number() takes 1 positional argument but 5 were given"
     ]
    }
   ],
   "source": [
    "squared_number (2,3,4,5,6)"
   ]
  },
  {
   "cell_type": "code",
   "execution_count": 3,
   "metadata": {},
   "outputs": [
    {
     "ename": "TypeError",
     "evalue": "squared_number() takes 1 positional argument but 2 were given",
     "output_type": "error",
     "traceback": [
      "\u001b[1;31m---------------------------------------------------------------------------\u001b[0m",
      "\u001b[1;31mTypeError\u001b[0m                                 Traceback (most recent call last)",
      "\u001b[1;32mc:\\Users\\k\\StatisticsIntroParts\\part6_functions.ipynb Cell 38\u001b[0m in \u001b[0;36m<cell line: 1>\u001b[1;34m()\u001b[0m\n\u001b[1;32m----> <a href='vscode-notebook-cell:/c%3A/Users/k/StatisticsIntroParts/part6_functions.ipynb#X52sZmlsZQ%3D%3D?line=0'>1</a>\u001b[0m squared_number([\u001b[39m2\u001b[39;49m,\u001b[39m3\u001b[39;49m,\u001b[39m4\u001b[39;49m,\u001b[39m5\u001b[39;49m,\u001b[39m6\u001b[39;49m,],[\u001b[39m7\u001b[39;49m,\u001b[39m8\u001b[39;49m,\u001b[39m9\u001b[39;49m,\u001b[39m10\u001b[39;49m])\n",
      "\u001b[1;31mTypeError\u001b[0m: squared_number() takes 1 positional argument but 2 were given"
     ]
    }
   ],
   "source": [
    "squared_number([2,3,4,5,6,],[7,8,9,10])"
   ]
  },
  {
   "attachments": {},
   "cell_type": "markdown",
   "metadata": {},
   "source": [
    "Python has a way to solve this.\n",
    "\n",
    "By using the * operator before the argument name, we can make it so that the function will take as many arguments as the end user wants."
   ]
  },
  {
   "cell_type": "code",
   "execution_count": 4,
   "metadata": {},
   "outputs": [],
   "source": [
    "# Define a function \n",
    "def sq_nums (*args): # Use * operator before the argument name (by convention it is args but you can name it whatever you want)\n",
    "    # Write a for loop to iterate over the arguments\n",
    "    for x in args:\n",
    "        print (x ** 2)"
   ]
  },
  {
   "cell_type": "code",
   "execution_count": 5,
   "metadata": {},
   "outputs": [
    {
     "name": "stdout",
     "output_type": "stream",
     "text": [
      "1849\n",
      "144\n",
      "116964\n",
      "285156\n",
      "455625\n",
      "54756\n"
     ]
    }
   ],
   "source": [
    "# Call the function with as many arguments as you want\n",
    "sq_nums (43,12,342,534,675,234)"
   ]
  },
  {
   "cell_type": "code",
   "execution_count": 6,
   "metadata": {},
   "outputs": [
    {
     "name": "stdout",
     "output_type": "stream",
     "text": [
      "15129\n",
      "413449\n",
      "45616516\n",
      "2809\n",
      "54756\n",
      "321489\n",
      "935089\n",
      "179776\n",
      "7396\n",
      "54756\n",
      "53361\n"
     ]
    }
   ],
   "source": [
    "# Call the function again with a different number of arguments\n",
    "sq_nums (123,643,6754,53,234,567,967,424,86,234,231)"
   ]
  },
  {
   "attachments": {},
   "cell_type": "markdown",
   "metadata": {},
   "source": [
    "As you can see the function now prints the squared value of the arguments, no matter how many arguments we pass when we call the function. "
   ]
  },
  {
   "attachments": {},
   "cell_type": "markdown",
   "metadata": {},
   "source": [
    "#### Note:\n",
    "You may have noticed that instead of using the return keyword, we printed the values. If we had used return, the function would stop after returning the first element of the arguments with the desired operation (squared, summed etc.) . If we really want the function to actually return (and not print) the argument values with the desired operation, we can use a comprehension:"
   ]
  },
  {
   "cell_type": "code",
   "execution_count": 7,
   "metadata": {},
   "outputs": [],
   "source": [
    "def ofourth_nums (*args):\n",
    "    return [x / 4 for x in args]"
   ]
  },
  {
   "cell_type": "code",
   "execution_count": 8,
   "metadata": {},
   "outputs": [
    {
     "data": {
      "text/plain": [
       "[1.0, 1.5, 2.0, 2.5, 3.0, 3.5, 4.0]"
      ]
     },
     "execution_count": 8,
     "metadata": {},
     "output_type": "execute_result"
    }
   ],
   "source": [
    "ofourth_nums (4,6,8,10,12,14,16)"
   ]
  },
  {
   "attachments": {},
   "cell_type": "markdown",
   "metadata": {},
   "source": [
    "Before we move on, it would be nice to see how we can introduce some flexibility to our function with arbitrary arguments in terms of type. For example, let's define a function that will print out the squared values even when the user passes a list of single variables."
   ]
  },
  {
   "cell_type": "code",
   "execution_count": 13,
   "metadata": {},
   "outputs": [],
   "source": [
    "def sq_nums_lst (*args):\n",
    "    for x in args:\n",
    "        if type (x) == list:\n",
    "            for y in x:\n",
    "                print ((y ** 2))\n",
    "        else:\n",
    "            print (x ** 2)"
   ]
  },
  {
   "cell_type": "code",
   "execution_count": 14,
   "metadata": {},
   "outputs": [
    {
     "name": "stdout",
     "output_type": "stream",
     "text": [
      "144\n",
      "25\n",
      "36\n",
      "4\n",
      "9\n",
      "16\n",
      "25\n"
     ]
    }
   ],
   "source": [
    "sq_nums_lst (12, 5, 6, [2, 3, 4, 5])"
   ]
  },
  {
   "attachments": {},
   "cell_type": "markdown",
   "metadata": {},
   "source": [
    "### Arbitrary Keyword Arguments (**kwargs)\n",
    "\n",
    "Arbitrary keyword arguments work like arbitrary arguments, but instead of providing you with a tuple of arguments, they give you a dictionary of arguments with keys and values. You can iterate over this dictionary just like you would with a normal one. See the example below to understand how they can be useful:"
   ]
  },
  {
   "cell_type": "code",
   "execution_count": 18,
   "metadata": {},
   "outputs": [
    {
     "name": "stdout",
     "output_type": "stream",
     "text": [
      "Python programming language was introduced in 1990\n",
      "Go programming language was introduced in 2009\n",
      "Csharp programming language was introduced in 2000\n"
     ]
    }
   ],
   "source": [
    "def lang_year (**kwargs):\n",
    "    for lang, year in kwargs.items():\n",
    "        print (\"{} programming language was introduced in {}\".format(lang,year))\n",
    "\n",
    "lang_year (Python = 1990, Go = 2009, Csharp = 2000)"
   ]
  },
  {
   "attachments": {},
   "cell_type": "markdown",
   "metadata": {},
   "source": [
    "### Exercises\n",
    "\n",
    "* Define a function that will return one third (1/3) of the sum of two values\n",
    "* Define a function with that will substract a smaller value from a larger one (without using keyword arguments) (Hint : You will need to use conditionals)\n",
    "* Define a function that will return the arithmetic average of a list \n",
    "* Define a function that will print the length of its arguments\n",
    "* Define a function that will print one fifth (1/5) of its arguments\n",
    "* Define a function that will print words and the count of a letter of your choice within those words. "
   ]
  }
 ],
 "metadata": {
  "kernelspec": {
   "display_name": "Python 3 (ipykernel)",
   "language": "python",
   "name": "python3"
  },
  "language_info": {
   "codemirror_mode": {
    "name": "ipython",
    "version": 3
   },
   "file_extension": ".py",
   "mimetype": "text/x-python",
   "name": "python",
   "nbconvert_exporter": "python",
   "pygments_lexer": "ipython3",
   "version": "3.9.12"
  }
 },
 "nbformat": 4,
 "nbformat_minor": 2
}
