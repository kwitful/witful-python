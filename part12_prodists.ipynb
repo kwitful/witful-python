{
 "cells": [
  {
   "cell_type": "markdown",
   "metadata": {},
   "source": [
    "# A Practical Guide to Probability Distributions\n",
    "by Kaan Kabalak @ witfuldata.com\n",
    "\n",
    "I have prepared this as a very practical guide to probability distributions. Even if you haven't studied a single word of probability, you will understand this entire tutorial and have a very good idea what probability distributions are. I know that it seems like a over-confident promise. Yet, you will see that it is true. I have spent a lot of time, explaining different topics at an optimumum level to make sure that my word stands firm.   "
   ]
  },
  {
   "cell_type": "markdown",
   "metadata": {},
   "source": [
    "## What are Random Variables?\n",
    "\n",
    "\n",
    "To understand what probability distributions are, it is important to understand their building block, random variables.\n",
    "\n",
    "Random variables are variables which have values tied to the outcome of random events. Their values are initially unknown and discovered only after the random event takes place. For example, when we flip a coin, the coin is a random variable with its possible values (heads or tails). Until we flip the coin and check it, we do not know its value. We don't know if it is heads or tails.\n",
    "\n",
    "\n",
    "We decide the type of random variables based on the possible values they can have. There are two main types of random variables:\n",
    "\n",
    "* Discrete Random Variables\n",
    "* Continuous Random Variables\n",
    "\n",
    "Probability distributions are also categorized into discrete and continuous. Let's first understand probability distributions better. Then, we'll see how to understand this difference between discrete and continuous.\n"
   ]
  },
  {
   "cell_type": "markdown",
   "metadata": {},
   "source": [
    "## What are Probability Distributions?\n",
    "\n",
    "Probability distributions are actually a description of the possible values of a random variable and the probability of these possible values. For example, how probable is it to get heads and how probable is it to get tails when we flip a coin without cheating? It is %50 for heads and %50 for tails. This distrubtion of probabilities for this coin flip is called a probability distribution.\n",
    "\n",
    "There are different kinds of probability distributions for different kinds of random events. For example, the probability distribution for this particular coin flip event is called a discrete distribution. We will learn about what it actually is and the other kinds of probability distributions. \n",
    "\n"
   ]
  },
  {
   "cell_type": "markdown",
   "metadata": {},
   "source": [
    "#### What is the Difference Between Probable and Possible?\n",
    "\n",
    "Let's say you have a deck of cards with six different cards. The numbers on them are as follows:\n",
    "\n",
    "{1, 2, 3, 4, 5, 6}\n",
    "\n",
    "If we want to draw one card and see the number on it, what can we say about possibility and probability here?\n",
    "\n",
    "{1, 2, 3, 4, 5, 6} are all possible values. There is a probability for each possible value.\n",
    "\n",
    "The probability of getting any number in {1, 2, 3, 4, 5, 6} is 1/6.\n",
    "\n",
    " 7 is neither possible nor probable in this event. We do not have a card with the number 7 on it.\n",
    "\n",
    "Let's change things a bit to understand the mechanisms of statistics in a better way:\n",
    "\n",
    "Let's add the same card twice and have a deck of cards as {1, 2, 3, 4, 5, 5, 6}\n",
    "\n",
    "We know have two 5s. For this event we can say:\n",
    "\n",
    "The probability of getting a card with a number aside from 5 in {1, 2, 3, 4, 5, 5, 6} is 1/5. This is equalt to 0.20\n",
    "\n",
    "The probability of getting a card with 5 in {1, 2, 3, 4, 5, 5, 6} is 2/7. This is roughly equal to 0.28\n",
    "\n",
    "It is more probable to get a card with 5 in this case. However, this does not make it more possible.\n",
    "\n",
    "This is the difference between possibility and probability. The probability is measurable but possibility is not. We cannot say something is 2/7 possible. In an event like this, something is either possible or not.\n"
   ]
  },
  {
   "cell_type": "markdown",
   "metadata": {},
   "source": [
    "# Discrete vs. Continuous Distributions\n",
    "\n",
    "What seperates continuous distributions from discrete ones seem simple, but it can actually be complicated. After some thought, I have decided that the best way to explain the difference is through the difference of value ranges. \n",
    "\n",
    "In discrete distributions, the possible values are exact. In continuous distributions, possible values are not exact. They are always between a range. \n",
    "\n",
    "Let's understand this with examples from two distributions; one discrete and the other continuous:\n",
    "\n",
    "* Let's say that an event occurs 5 times per hour <strong>on average</strong>. You want to calculate the probability of the event occuring 4 times in a hour of your choice. It is <em>possible</em> and at the same time <em>probable</em> to observe the event 4 times, as it can stray away from the average. It is also <em>possible</em> and at the same time <em>probable</em> to observe the event 5 times (as is the average rate) or even more times, like 6 or 7. But it is neither possible nor probable to observe the event 4.7 or 5.3 times. The possible numbers, to which we can assign probabilities, need to be exactly countable numbers.\n",
    "\n",
    "\n",
    "\n",
    "* Now, let's think about the continuous example. Let's say that we measure the weights of students in a school. Some of them weigh 78.20 kilos, some 83.56, some 57.83 and so on. After the measurement, we will have an overall idea about how much students weigh in that school on average (arithmetic mean) and the standart deviation around that mean. Now, given that we have collected enough data and we have these statistical measures like mean and standart deviation, we can finally start talking about the probability of selecting a student who will weigh around 57 and 78 kilos. We can calculate a probability for this. But here is the question: Can't we also do this for an exact value in this distribution? Can't we calculate the probability of a student weighing exactly 57.83 kilos? The short answer is, no! No, we cannot, because a student will never weigh an exact kilo. He/she will weigh 57.8398 or 57.8398567 or to have more detail 57.839856786475642... That is the problem. In mathematical terms, there is such a large amount of numbers between two numbers that it is not possible to finish counting in the life span of this world. We can just go on and on, counting for many years but we still would not reach the next number. This problem prevents us from assigning exact possible values to continuous variables. Unlike the events in discrete distributions, we cannot observe exact values. The values are actually never exact. \n",
    "\n",
    "<strong>Note: </strong> Rarely, we may see some numbers with decimal points in discrete distributions, but they don't indicate a continuous attribute. For example, we may have a deck of cards with numbers with decimal points written on them. The decimal points in this case does not change the fact that the cards are exactly countable. We will have an exact number of cards with exact numbers on them. So, keep in mind that exactly countable does not always mean integer."
   ]
  },
  {
   "cell_type": "markdown",
   "metadata": {},
   "source": [
    "#### What are Parameters in Probability Distributions?\n",
    "\n",
    "There are two main definitions for parameters in terms of statistics. The first one is about sampling and population which we will go through in the next part (next guide).\n",
    "\n",
    "The second one can be defined as constant parts of distributions. \n",
    "\n",
    "For example, some distributions have mean and standart deviation as their parameters. They are constant in those distributions. The normal distribution, which I will explain in this part, is one such distribution with the statistical parameters of mean and standart deviation. We can take a look at 6-7 or more normally distributed datasets. They will have different values for the mean and standart deviation, but they will all have a mean and a standart deviation, because these two are <strong>parameters</strong> of normal distributions. \n",
    "\n",
    "You can also understand this concept through function parameters. When you define a function, you do so with parameters. For example a and b in def my_func( a , b ). Here, a and b are parameters. You can call the function with 4 and 5 or 124 and 178. You can assing different argument values to parameters a and b, but this does not change the fact that the function my_func has two parameters. "
   ]
  },
  {
   "cell_type": "markdown",
   "metadata": {},
   "source": [
    "## Discrete Distributions"
   ]
  },
  {
   "cell_type": "markdown",
   "metadata": {},
   "source": [
    "## The Binomial Distribution\n",
    "\n",
    "The Binomial distribution is observed in events where are only two possible outcomes. These outcomes may have the same probability (like 50/50) or one can be more probable than the other like (40/60). This probability can be sometimes referred to as the success rate. However, this can be confusing because you will sometimes see the same probability being used to indicate failures. It is always better to take the context into consideration. \n",
    "\n",
    "Binomial Distribution can be observed, as an example, in:\n",
    "\n",
    "* Series of coin flip games (the coins are either heads or tails)\n",
    "* Factory production lines (the produced items are either okay or have a problem)\n",
    "* Football games (teams either win or lose)\n",
    "\n",
    "\n",
    "Let's understand binomial distribution better through a visual example. \n",
    "\n",
    "You set yourself some rules for the game:\n",
    "\n",
    "The coin is fair. Both heads and tails have the same weight. (The probability of getting any one of them is %50). \n",
    "\n",
    "Heads = Success (1)\n",
    "Tails = Fail (0)\n",
    "\n",
    "The goal of the game is to repeat this <strong>one</strong> flip 10 times and take a look at how many successes (1) we would get of these 10 times.\n",
    "\n",
    "Let's see how we can simulate this game in Python!"
   ]
  },
  {
   "cell_type": "code",
   "execution_count": 1,
   "metadata": {},
   "outputs": [],
   "source": [
    "# Import\n",
    "import numpy as np\n",
    "import matplotlib.pyplot as plt\n",
    "import pandas as pd\n",
    "import seaborn as sns"
   ]
  },
  {
   "cell_type": "code",
   "execution_count": 2,
   "metadata": {},
   "outputs": [
    {
     "data": {
      "text/plain": [
       "array([0, 0, 0, 1, 1, 1, 1, 0, 1, 0])"
      ]
     },
     "execution_count": 2,
     "metadata": {},
     "output_type": "execute_result"
    }
   ],
   "source": [
    "# Import binom from scipy.stats\n",
    "from scipy.stats import binom \n",
    "\n",
    "binom.rvs(1, 0.5, size = 10) # one flip, %50 success rate, repeat 10 times"
   ]
  },
  {
   "cell_type": "markdown",
   "metadata": {},
   "source": [
    "The .rvs method/function we used here provides us with random values based on the parameter argument values we passed into it."
   ]
  },
  {
   "cell_type": "code",
   "execution_count": 3,
   "metadata": {},
   "outputs": [
    {
     "data": {
      "image/png": "[encoded data removed]",
      "text/plain": [
       "<Figure size 360x360 with 1 Axes>"
      ]
     },
     "metadata": {
      "needs_background": "light"
     },
     "output_type": "display_data"
    }
   ],
   "source": [
    "# Visualize a binomial trial\n",
    "vizbinom_trial = binom.rvs(5, 0.5, size = 10) # 5 flips, %50 success rate, repeat 10 times\n",
    "sns.displot(vizbinom_trial , discrete=True)\n",
    "plt.show()"
   ]
  },
  {
   "cell_type": "markdown",
   "metadata": {},
   "source": [
    "Let's try out some other ways to flip coins. "
   ]
  },
  {
   "cell_type": "code",
   "execution_count": 4,
   "metadata": {},
   "outputs": [
    {
     "data": {
      "text/plain": [
       "array([1, 0, 0, 1, 1, 0, 0, 1, 0, 1])"
      ]
     },
     "execution_count": 4,
     "metadata": {},
     "output_type": "execute_result"
    }
   ],
   "source": [
    "# one flip, %30 success rate, repeat 10 times\n",
    "binom.rvs(1, 0.3, size = 10) "
   ]
  },
  {
   "cell_type": "code",
   "execution_count": 5,
   "metadata": {},
   "outputs": [
    {
     "data": {
      "text/plain": [
       "array([0, 3, 2, 3, 3, 2, 4, 3])"
      ]
     },
     "execution_count": 5,
     "metadata": {},
     "output_type": "execute_result"
    }
   ],
   "source": [
    "# 5 flips, %60 success rate, repeat 8 times\n",
    "binom.rvs(5, 0.6, size = 8) "
   ]
  },
  {
   "cell_type": "markdown",
   "metadata": {},
   "source": [
    "## Probability Mass Function (PMF)\n",
    "\n",
    "Probability mass function is a mathematical function that is used to calculate the probability of the value of a discrete random variable being equal to a certain value. For example, it helps us calculate:\n",
    "\n",
    "* The probability of getting 4 heads (successes) out of 10 flips.\n",
    "* The probability of having 5 customers in an hour, given that 7 customers arrive per hour on average. "
   ]
  },
  {
   "cell_type": "markdown",
   "metadata": {},
   "source": [
    "##### Probability Mass Function (PMF) for Binomial Distributions"
   ]
  },
  {
   "cell_type": "code",
   "execution_count": 6,
   "metadata": {},
   "outputs": [
    {
     "data": {
      "text/plain": [
       "0.25000000000000006"
      ]
     },
     "execution_count": 6,
     "metadata": {},
     "output_type": "execute_result"
    }
   ],
   "source": [
    "# Binom PMF\n",
    "binom.pmf(k=3, n=4, p=0.5) # 3 successes out of 4 trials with %50 success rate"
   ]
  },
  {
   "cell_type": "markdown",
   "metadata": {},
   "source": [
    "## Cumulative Distribution Function (CDF) for Discrete Distributions\n",
    "\n",
    "In a very practical sense, CDF returns the probability of the value of a random variable being equal to or less than a certain value"
   ]
  },
  {
   "cell_type": "markdown",
   "metadata": {},
   "source": [
    "##### Cumulative Distribution Function (CDF) for Binomial Distributions\n"
   ]
  },
  {
   "cell_type": "code",
   "execution_count": 7,
   "metadata": {},
   "outputs": [
    {
     "data": {
      "text/plain": [
       "0.74609375"
      ]
     },
     "execution_count": 7,
     "metadata": {},
     "output_type": "execute_result"
    }
   ],
   "source": [
    "# 5 or fewer successes out of 9 trials with %50 success rate\n",
    "binom.cdf(5, 9, 0.5) "
   ]
  },
  {
   "cell_type": "markdown",
   "metadata": {},
   "source": [
    "## Survival Function for Discrete Distributions\n",
    "\n",
    "In a very practical sense, Survival Function returns the probability of the value of a random variable being larger than a certain value. This is also equal to 1 - CDF"
   ]
  },
  {
   "cell_type": "markdown",
   "metadata": {},
   "source": [
    "##### Survival Function for Binomial Distributions"
   ]
  },
  {
   "cell_type": "code",
   "execution_count": 8,
   "metadata": {},
   "outputs": [
    {
     "data": {
      "text/plain": [
       "0.25390625"
      ]
     },
     "execution_count": 8,
     "metadata": {},
     "output_type": "execute_result"
    }
   ],
   "source": [
    "# More than 5 successes out of 9 trials with %50 success rate\n",
    "binom.sf(5, 9, 0.5) "
   ]
  },
  {
   "cell_type": "markdown",
   "metadata": {},
   "source": [
    "## The Poisson Distribution\n",
    "\n",
    "Poisson distribution is observed for a certain number of events that occur in a time interval on average. For example, it helps us understand:\n",
    "\n",
    "* Given that a store gets 10 customers every 8 hours <strong>on average</strong>, what is the probability of getting 15 customers in 8 hours? \n",
    "* Given that 5 faulty items are produced every 15 days <strong>on average</strong>, what is the probability of the production of 3 faulty items in 15 days?\n",
    "\n",
    "We can actually say that the Poisson Distribution gives you an idea about how usual or unusual it is to see an event occur in a time interval, given that you know how many times that event occur in the <strong> the same time interval on average</strong>\n",
    "\n",
    "Let's see an example of the Poisson distribution in Python. We will take a look at a store which gets 7 customers per day on average. "
   ]
  },
  {
   "cell_type": "code",
   "execution_count": 9,
   "metadata": {
    "scrolled": true
   },
   "outputs": [
    {
     "data": {
      "text/plain": [
       "array([10,  8,  5,  6,  6,  9,  9,  7,  4,  7])"
      ]
     },
     "execution_count": 9,
     "metadata": {},
     "output_type": "execute_result"
    }
   ],
   "source": [
    "# Import poisson from scipy.stats\n",
    "from scipy.stats import poisson\n",
    "\n",
    "# Random Poisson values\n",
    "pn_trial = poisson.rvs(7, size = 10) # Average of 7 customers per day, repeat 10 times\n",
    "pn_trial"
   ]
  },
  {
   "cell_type": "code",
   "execution_count": 10,
   "metadata": {},
   "outputs": [
    {
     "data": {
      "image/png": "[encoded data removed]",
      "text/plain": [
       "<Figure size 360x360 with 1 Axes>"
      ]
     },
     "metadata": {
      "needs_background": "light"
     },
     "output_type": "display_data"
    }
   ],
   "source": [
    "# Visualize a Poisson trial\n",
    "sns.displot(pn_trial , discrete = True)\n",
    "plt.show()"
   ]
  },
  {
   "cell_type": "markdown",
   "metadata": {},
   "source": [
    "##### Probability Mass Function (PMF) for Poisson Distributions"
   ]
  },
  {
   "cell_type": "code",
   "execution_count": 11,
   "metadata": {},
   "outputs": [
    {
     "data": {
      "text/plain": [
       "0.10140466950059107"
      ]
     },
     "execution_count": 11,
     "metadata": {},
     "output_type": "execute_result"
    }
   ],
   "source": [
    "# Observing 9 events given the average is 7\n",
    "poisson.pmf(9, 7) "
   ]
  },
  {
   "cell_type": "markdown",
   "metadata": {},
   "source": [
    "##### Cumulative Distribution Function (CDF) for Poisson Distributions"
   ]
  },
  {
   "cell_type": "code",
   "execution_count": 12,
   "metadata": {},
   "outputs": [
    {
     "data": {
      "text/plain": [
       "0.44971105584869875"
      ]
     },
     "execution_count": 12,
     "metadata": {},
     "output_type": "execute_result"
    }
   ],
   "source": [
    "# Observing 6 or less events given the average is 7\n",
    "poisson.cdf(6, 7) "
   ]
  },
  {
   "cell_type": "markdown",
   "metadata": {},
   "source": [
    "##### Survival Function for Poisson Distributions"
   ]
  },
  {
   "cell_type": "code",
   "execution_count": 13,
   "metadata": {},
   "outputs": [
    {
     "data": {
      "text/plain": [
       "0.5502889441513008"
      ]
     },
     "execution_count": 13,
     "metadata": {},
     "output_type": "execute_result"
    }
   ],
   "source": [
    "# Observing more than 6 events given the average is 7\n",
    "poisson.sf(6, 7) "
   ]
  },
  {
   "cell_type": "markdown",
   "metadata": {},
   "source": [
    "# Continuous Distributions"
   ]
  },
  {
   "cell_type": "markdown",
   "metadata": {},
   "source": [
    "## The Normal Distribution\n",
    "\n",
    "Normal Distribution is observed in situations where data is \n",
    "\n",
    "\n",
    "Normal Distribution is one of the most important continuous distributions. It is important because:\n",
    "\n",
    "* There are many cases of normal distribution in real life (like weight and height distributions)\n",
    "* Several statistical and machine learning concepts are based on normal distribution (we will take a look at them in future parts)"
   ]
  },
  {
   "cell_type": "code",
   "execution_count": 14,
   "metadata": {},
   "outputs": [],
   "source": [
    "# Import norm from scipy.stats\n",
    "from scipy.stats import norm\n",
    "\n",
    "# Normal distribution with 110 mean, 4 standard deviation, 10000 samples \n",
    "norm_dist = norm.rvs(110, 4, size = 10000)"
   ]
  },
  {
   "cell_type": "markdown",
   "metadata": {},
   "source": [
    "#### Note: Please take note that the .rvs function gives you random values that are only compliant with the parameters you provide (mean and standart deviation in this case). The parameter argument values of the resulting array will not be exactly the same with the parameter arguments values you passed. They will be close to the ones you provided, not the same."
   ]
  },
  {
   "cell_type": "markdown",
   "metadata": {},
   "source": [
    "A good way to visualize normal distributions is to use a KDE (Kernel Density Estimation) plot. Don't let the fancy name get you, it is basically a statistical graph which shows the probability density (which is explained below) for random variable values (x)."
   ]
  },
  {
   "cell_type": "code",
   "execution_count": 15,
   "metadata": {},
   "outputs": [
    {
     "data": {
      "image/png": "[encoded data removed]",
      "text/plain": [
       "<Figure size 360x360 with 1 Axes>"
      ]
     },
     "metadata": {
      "needs_background": "light"
     },
     "output_type": "display_data"
    }
   ],
   "source": [
    "# Visualize a normal distribution\n",
    "sns.displot(norm_dist, kind =\"kde\")\n",
    "plt.show()"
   ]
  },
  {
   "cell_type": "markdown",
   "metadata": {},
   "source": [
    "This not the smoothest version of it but what you see here is called a bell curve. Bell curve shows how most of the data (around %99) in normal distributions fall within 3x standart deviations of the mean. This called the Empirical Rule which states that:\n",
    "\n",
    "* %68 of the data falls within +/- 1 standart deviation of the mean.\n",
    "* %95 of the data falls within +/- 2 standart deviation of the mean.\n",
    "* %99.7 the data falls within +/- 3 standart deviation of the mean."
   ]
  },
  {
   "cell_type": "markdown",
   "metadata": {},
   "source": [
    "Let's see for ourselves how the Empirical Rule actually works. We will"
   ]
  },
  {
   "cell_type": "code",
   "execution_count": 16,
   "metadata": {},
   "outputs": [
    {
     "data": {
      "text/plain": [
       "0.0019"
      ]
     },
     "execution_count": 16,
     "metadata": {},
     "output_type": "execute_result"
    }
   ],
   "source": [
    "# Mean and standart deviation to a variable\n",
    "norm_mean = np.mean(norm_dist)\n",
    "norm_std = np.std(norm_dist)\n",
    "\n",
    "# Filter the normally distributed array \n",
    "filter_one = (norm_dist > (norm_mean + norm_std * 3)) | (norm_dist < (norm_mean - norm_std * 3))\n",
    "filtered_norm = norm_dist[filter_one]\n",
    "\n",
    "# Filtered length to Overall Length ratio\n",
    "len(filtered_norm) / len(norm_dist)"
   ]
  },
  {
   "cell_type": "markdown",
   "metadata": {},
   "source": [
    "As you can see, the length (number of observations) of our filtered array is less than %1 of the original array. Which makes it clear that more %99 of the data, indeed, falls within 3 standard deviations of the mean. You change the multiplier of the variable norm_std to 1 or 2 to try out the first two conditions of the Empirical Rule. The results you get will be fairly close to your expectations. "
   ]
  },
  {
   "cell_type": "markdown",
   "metadata": {},
   "source": [
    "## Probability Density Function (PDF)\n",
    "\n",
    "In a more common sense, probability density function gives us the probability of a random variable's value being located within a range of values in a continuous distribution. \n",
    "\n",
    "For example, it helps us calculate:\n",
    "\n",
    "* The probability of finding a student with a weight between 65 and 80 kilos, given that the average weight in the school is 70.30 kilos and the standart deviation is 3.75 kilos. \n",
    "* The probability of a finding a patient with blood pressure between 80 and 90 given that the average blood pressure of all the patients is 100 and the standart deviation is 4.3. \n",
    "\n",
    "We should also know that PDF can be used to calculate the probability of observing a value that is <strong> relatively close </strong> to a certain point. As we will see below, this is the version of outcome that we get with Scipy's PDF. "
   ]
  },
  {
   "cell_type": "markdown",
   "metadata": {},
   "source": [
    "#### Probability Density Function (PDF) for Normal Distributions\n",
    "\n",
    "Using Scipy's PDF function returns the probability density at a given point. \n",
    "\n",
    "This could be confusing, considering that we have just mentioned how impossible it is to find the probability of observing a single value in continuous distributions. \n",
    "\n",
    "Actually, we already have the answer. It returns the <strong>probability density at a single point</strong>, not the  overall probability of a range or the probability of a single value. So, what is this probability density at a single point?\n",
    "\n",
    "The probability density at a single point means the probability of a random variable value being close to that point. In normal distributions, the values close to the mean will return higher probabilities. This makes sense considering that most observations fall around just a few standart deviations of the mean in normal distributions.   "
   ]
  },
  {
   "cell_type": "markdown",
   "metadata": {},
   "source": [
    "##### Probability Density Function (PDF) at a Single Point for Normal Distributions"
   ]
  },
  {
   "cell_type": "code",
   "execution_count": 17,
   "metadata": {},
   "outputs": [
    {
     "data": {
      "text/plain": [
       "0.04566227134725548"
      ]
     },
     "execution_count": 17,
     "metadata": {},
     "output_type": "execute_result"
    }
   ],
   "source": [
    "# PDF for 105, given the average is 110 and the standart deviation is 4\n",
    "norm.pdf(105, 110, 4)"
   ]
  },
  {
   "cell_type": "markdown",
   "metadata": {},
   "source": [
    "Now, let's move further away from the mean (average) and see how the probability density decreases"
   ]
  },
  {
   "cell_type": "code",
   "execution_count": 18,
   "metadata": {},
   "outputs": [
    {
     "data": {
      "text/plain": [
       "0.0011079621029845019"
      ]
     },
     "execution_count": 18,
     "metadata": {},
     "output_type": "execute_result"
    }
   ],
   "source": [
    "# PDF for 98, given the average is 110 and the standart deviation is 4\n",
    "norm.pdf(98, 110, 4) "
   ]
  },
  {
   "cell_type": "code",
   "execution_count": 19,
   "metadata": {},
   "outputs": [
    {
     "data": {
      "text/plain": [
       "0.007934912958916854"
      ]
     },
     "execution_count": 19,
     "metadata": {},
     "output_type": "execute_result"
    }
   ],
   "source": [
    "# PDF for 119, given the average is 110 and the standart deviation is 4\n",
    "norm.pdf(119, 110, 4)"
   ]
  },
  {
   "cell_type": "markdown",
   "metadata": {},
   "source": [
    "##### Probability Density Function (PDF) of a Range for Normal Distributions"
   ]
  },
  {
   "cell_type": "code",
   "execution_count": 20,
   "metadata": {},
   "outputs": [
    {
     "data": {
      "text/plain": [
       "0.09944010834107922"
      ]
     },
     "execution_count": 20,
     "metadata": {},
     "output_type": "execute_result"
    }
   ],
   "source": [
    "# PDF for the range between 105-100, given the average is 110 and the standart deviation is 4\n",
    "norm.cdf (105,110,4) - norm.cdf (100,110,4)"
   ]
  },
  {
   "cell_type": "markdown",
   "metadata": {},
   "source": [
    "## Cumulative Distribution Function (CDF) for Continuous Distributions\n",
    "\n",
    "Cumulative Distribution Function returns the probability density for an area of random variable values that account for all values less than a certain value."
   ]
  },
  {
   "cell_type": "markdown",
   "metadata": {},
   "source": [
    "#### Cumulative Distribution Function (CDF) for Normal Distributions"
   ]
  },
  {
   "cell_type": "code",
   "execution_count": 21,
   "metadata": {},
   "outputs": [
    {
     "data": {
      "text/plain": [
       "0.10564977366685535"
      ]
     },
     "execution_count": 21,
     "metadata": {},
     "output_type": "execute_result"
    }
   ],
   "source": [
    "# The probability area for values less than 105, given the average is 110 and the standart deviation is 4\n",
    "norm.cdf(105, 110, 4) "
   ]
  },
  {
   "cell_type": "markdown",
   "metadata": {},
   "source": [
    "## Survival Function for Continuous Distributions\n",
    "\n",
    "Survival Function returns the probability density for an area of random variable values that account for all values larger than a certain value. It is also equal to 1 - CDF"
   ]
  },
  {
   "cell_type": "markdown",
   "metadata": {},
   "source": [
    "#### Survival Function for Normal Distributions"
   ]
  },
  {
   "cell_type": "code",
   "execution_count": 22,
   "metadata": {},
   "outputs": [
    {
     "data": {
      "text/plain": [
       "0.8943502263331446"
      ]
     },
     "execution_count": 22,
     "metadata": {},
     "output_type": "execute_result"
    }
   ],
   "source": [
    "# The probability  area for values larger than 105, given the average is 110 and standart deviation is 4\n",
    "norm.sf(105, 110, 4) "
   ]
  },
  {
   "cell_type": "markdown",
   "metadata": {},
   "source": [
    "## The Exponential Distribution\n",
    "\n",
    "The exponential distribution helps us have understanding of the time that passes between random events. For example, it helps us understand:\n",
    "\n",
    "* Given that a customer comes to a store every 5 minutes <strong>on average</strong>, and a customer has just left, what is the probability of waiting 4 minutes for the next customer.\n",
    "* Given that a baby is born at a hospital every 4 hours <strong>on average</strong>, and baby has been just born, what is the probability of waiting 5 hours for the next baby"
   ]
  },
  {
   "cell_type": "markdown",
   "metadata": {},
   "source": [
    "##### Probability Density Function (PDF) at a Single Point for Exponential Distributions"
   ]
  },
  {
   "cell_type": "code",
   "execution_count": 23,
   "metadata": {},
   "outputs": [],
   "source": [
    "# Import expon from scipy.stats\n",
    "from scipy.stats import expon"
   ]
  },
  {
   "cell_type": "markdown",
   "metadata": {},
   "source": [
    "The exponential distribution has a parameter that defines the lowest amount. This parameter is reffered to as \"the location parameter\". This is indicated by the loc parameter in scipy's expon function.\n",
    "\n",
    "This distribution has another parameter that defines the average waiting time between events. This is rate is reffered to as \"the scale parameter\". For example, if an event happens every 5 minutes on average, the scale is equal to 5 within the exponential distribution. "
   ]
  },
  {
   "cell_type": "code",
   "execution_count": 24,
   "metadata": {},
   "outputs": [
    {
     "data": {
      "text/plain": [
       "0.16374615061559636"
      ]
     },
     "execution_count": 24,
     "metadata": {},
     "output_type": "execute_result"
    }
   ],
   "source": [
    "# The probability density at 4 minutes,with minimum time = 3 minutes and given that the event happens every 5 minutes on average\n",
    "expon.pdf(4, loc=3, scale = 5)"
   ]
  },
  {
   "cell_type": "markdown",
   "metadata": {},
   "source": [
    "##### Probability Density Function (PDF) of a Range for Exponential Distributions"
   ]
  },
  {
   "cell_type": "code",
   "execution_count": 25,
   "metadata": {},
   "outputs": [
    {
     "data": {
      "text/plain": [
       "0.37293877951027554"
      ]
     },
     "execution_count": 25,
     "metadata": {},
     "output_type": "execute_result"
    }
   ],
   "source": [
    "# The probability density for waiting between 7 and 4 minutes, given that the minimum wait time is 1 minute and the rate is 6\n",
    "expon.cdf (7, loc=1, scale=6) - expon.cdf (4, loc=1, scale=10)"
   ]
  },
  {
   "cell_type": "markdown",
   "metadata": {},
   "source": [
    "##### Cumulative Distribution Function (CDF) for Exponential Distributions"
   ]
  },
  {
   "cell_type": "code",
   "execution_count": 26,
   "metadata": {},
   "outputs": [
    {
     "data": {
      "text/plain": [
       "0.28346868942621073"
      ]
     },
     "execution_count": 26,
     "metadata": {},
     "output_type": "execute_result"
    }
   ],
   "source": [
    "# Waiting less than 3 minutes, given the minimum wait time is 1 minute and the rate (scale) is 6\n",
    "expon.cdf (3, loc = 1, scale = 6)"
   ]
  },
  {
   "cell_type": "markdown",
   "metadata": {},
   "source": [
    "##### Survival Function for Exponential Distributions"
   ]
  },
  {
   "cell_type": "code",
   "execution_count": 27,
   "metadata": {},
   "outputs": [
    {
     "data": {
      "text/plain": [
       "0.7165313105737893"
      ]
     },
     "execution_count": 27,
     "metadata": {},
     "output_type": "execute_result"
    }
   ],
   "source": [
    "# Waiting more than 3 minutes, given the minimum wait time is 1 minute and the rate (scale) is 6\n",
    "expon.sf (3, loc = 1, scale = 6)"
   ]
  }
 ],
 "metadata": {
  "kernelspec": {
   "display_name": "Python 3 (ipykernel)",
   "language": "python",
   "name": "python3"
  },
  "language_info": {
   "codemirror_mode": {
    "name": "ipython",
    "version": 3
   },
   "file_extension": ".py",
   "mimetype": "text/x-python",
   "name": "python",
   "nbconvert_exporter": "python",
   "pygments_lexer": "ipython3",
   "version": "3.9.12"
  }
 },
 "nbformat": 4,
 "nbformat_minor": 2
}
