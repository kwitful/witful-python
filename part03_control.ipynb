{
 "cells": [
  {
   "cell_type": "markdown",
   "metadata": {},
   "source": [
    "# Part 3 - Control Flow Statements\n",
    "by Kaan Kabalak @ witfuldata.com\n",
    "\n",
    "Here is the point where things are getting more fun. After this part you will truly feel that you are actually programming something. Understanding control flow statements is important because they introduce the main idea behind programming: To give repeatable instructions and form algorithms. \n",
    "\n",
    "Like the previous two chapters, our main focus will be on the implementations in the data science and analysis fields. Actually, when you consider things from this perspective, it is more important for you to understand how these flows work rather than using them. That is because, most of the time, you will not have to write your own statements. The data analysis library you are using will probably have a method that takes care of the work for you. Still, it is important to understand the logic."
   ]
  },
  {
   "cell_type": "markdown",
   "metadata": {},
   "source": [
    "## For Statements (For Loops)\n",
    "\n",
    "For loops go over the elements of an iterable object. What is an iterable object? It basically means that you have an object and you can seperately count its elements and do something with them."
   ]
  },
  {
   "cell_type": "code",
   "execution_count": 1,
   "metadata": {},
   "outputs": [
    {
     "name": "stdout",
     "output_type": "stream",
     "text": [
      "h\n",
      "e\n",
      "l\n",
      "l\n",
      "o\n",
      "o\n"
     ]
    }
   ],
   "source": [
    "s_var = 'helloo'\n",
    "for x in s_var:\n",
    "    print (x)"
   ]
  },
  {
   "cell_type": "code",
   "execution_count": 2,
   "metadata": {},
   "outputs": [
    {
     "name": "stdout",
     "output_type": "stream",
     "text": [
      "1\n",
      "4\n",
      "9\n",
      "16\n",
      "25\n",
      "36\n",
      "49\n",
      "64\n"
     ]
    }
   ],
   "source": [
    "a_list = [1, 2, 3, 4, 5, 6, 7, 8]\n",
    "\n",
    "# The square of every element in a_list\n",
    "for x in a_list:\n",
    "    print (x ** 2)"
   ]
  },
  {
   "cell_type": "markdown",
   "metadata": {},
   "source": [
    "Iterating over dictionaries is a bit trickier. You will have to specify the key of the values which you want to iterate over. "
   ]
  },
  {
   "cell_type": "code",
   "execution_count": 3,
   "metadata": {},
   "outputs": [
    {
     "name": "stdout",
     "output_type": "stream",
     "text": [
      "312\n",
      "5435\n",
      "343\n",
      "654\n"
     ]
    }
   ],
   "source": [
    "b_dict = {'A': [312, 5435, 343, 654], 'B':[132, 62, 42, 67]}\n",
    "for x in b_dict['A']:\n",
    "    print(x)"
   ]
  },
  {
   "cell_type": "markdown",
   "metadata": {},
   "source": [
    "You can also iterate over dictionaries by using the .items () method like this:"
   ]
  },
  {
   "cell_type": "code",
   "execution_count": 4,
   "metadata": {},
   "outputs": [
    {
     "name": "stdout",
     "output_type": "stream",
     "text": [
      "A [312, 5435, 343, 654]\n",
      "B [132, 62, 42, 67]\n"
     ]
    }
   ],
   "source": [
    "for k, v in b_dict.items():\n",
    "    print (k,v)"
   ]
  },
  {
   "cell_type": "markdown",
   "metadata": {},
   "source": [
    "Here the k stands for key and v stands for value. This performed in this way because the .items() method returns all the keys and the values of a dictionary. Using this approach saves you the effort of having to iterate over dictionary keys manually the first approach."
   ]
  },
  {
   "cell_type": "markdown",
   "metadata": {},
   "source": [
    "#### <strong>Important Note:</strong> The names of the x, k, v etc. we used with our for loops are completely arbitrary. We could have called it a, element, zyx or anything we want. It wouldn't have made any difference. For example:"
   ]
  },
  {
   "cell_type": "code",
   "execution_count": 5,
   "metadata": {},
   "outputs": [
    {
     "name": "stdout",
     "output_type": "stream",
     "text": [
      "1\n",
      "4\n",
      "9\n",
      "16\n",
      "25\n",
      "36\n",
      "49\n",
      "64\n"
     ]
    }
   ],
   "source": [
    "a_list = [1, 2, 3, 4, 5, 6, 7, 8]\n",
    "\n",
    "for element in a_list:\n",
    "    print (element ** 2)"
   ]
  },
  {
   "cell_type": "code",
   "execution_count": 6,
   "metadata": {},
   "outputs": [
    {
     "name": "stdout",
     "output_type": "stream",
     "text": [
      "A [312, 5435, 343, 654]\n",
      "B [132, 62, 42, 67]\n"
     ]
    }
   ],
   "source": [
    "b_dict = {'A': [312, 5435, 343, 654], 'B':[132, 62, 42, 67]}\n",
    "\n",
    "for key, value in b_dict.items():\n",
    "    print (key, value)"
   ]
  },
  {
   "cell_type": "code",
   "execution_count": 7,
   "metadata": {},
   "outputs": [
    {
     "name": "stdout",
     "output_type": "stream",
     "text": [
      "A [312, 5435, 343, 654]\n",
      "B [132, 62, 42, 67]\n"
     ]
    }
   ],
   "source": [
    "b_dict = {'A': [312, 5435, 343, 654], 'B':[132, 62, 42, 67]}\n",
    "\n",
    "for ab, cd in b_dict.items():\n",
    "    print (ab,cd)"
   ]
  },
  {
   "cell_type": "markdown",
   "metadata": {},
   "source": [
    "#### If - Elif - Else Statements (Conditionals) \n",
    "\n",
    "We can spice up things in our for statements by introducing some conditional statements.\n",
    "\n"
   ]
  },
  {
   "cell_type": "code",
   "execution_count": 8,
   "metadata": {},
   "outputs": [
    {
     "name": "stdout",
     "output_type": "stream",
     "text": [
      "867\n",
      "543\n",
      "769\n",
      "532\n",
      "890\n"
     ]
    }
   ],
   "source": [
    "b_list = [125, 867, 543, 145, 769, 532, 890, 354, 278]\n",
    "\n",
    "# Print the elements that are larger than 500\n",
    "for x in b_list:\n",
    "    if x > 500:\n",
    "        print (x)"
   ]
  },
  {
   "cell_type": "markdown",
   "metadata": {},
   "source": [
    "We can also use elif  and else. They can be described like this:\n",
    "\n",
    "* elif --- (do something else based on another condition for the elements that do not meet the first if condition)\n",
    "* else --- (do something for the elements that do not meet any conditions)\n",
    "\n",
    "Let's do something with multiple conditions. We will iterate over the elements of a list and append them to 3 empty lists based on 2 different conditions. One of the lists will be filled with elements that do not meet the conditons (using the else conditional)"
   ]
  },
  {
   "cell_type": "code",
   "execution_count": 9,
   "metadata": {},
   "outputs": [],
   "source": [
    "b_list = [125, 867, 543, 145, 769, 532, 890, 354, 278]\n",
    "large_list = []\n",
    "medium_list = []\n",
    "small_list = []\n",
    "\n",
    "\n",
    "\n",
    "for x in b_list:\n",
    "    if x > 700:\n",
    "        large_list.append(x)\n",
    "    elif x > 300:\n",
    "        medium_list.append(x)\n",
    "    else:\n",
    "        small_list.append(x)\n",
    "\n"
   ]
  },
  {
   "cell_type": "code",
   "execution_count": 10,
   "metadata": {},
   "outputs": [
    {
     "data": {
      "text/plain": [
       "[867, 769, 890]"
      ]
     },
     "execution_count": 10,
     "metadata": {},
     "output_type": "execute_result"
    }
   ],
   "source": [
    "large_list"
   ]
  },
  {
   "cell_type": "code",
   "execution_count": 11,
   "metadata": {},
   "outputs": [
    {
     "data": {
      "text/plain": [
       "[543, 532, 354]"
      ]
     },
     "execution_count": 11,
     "metadata": {},
     "output_type": "execute_result"
    }
   ],
   "source": [
    "medium_list"
   ]
  },
  {
   "cell_type": "code",
   "execution_count": 12,
   "metadata": {},
   "outputs": [
    {
     "data": {
      "text/plain": [
       "[125, 145, 278]"
      ]
     },
     "execution_count": 12,
     "metadata": {},
     "output_type": "execute_result"
    }
   ],
   "source": [
    "small_list"
   ]
  },
  {
   "cell_type": "markdown",
   "metadata": {},
   "source": [
    "#### Conditional and Logical Operators\n",
    "Since we are working with conditional statements, it would be beneficial to take a look at conditional and logical operators to what they mean.\n",
    "\n",
    "* (>) Larger than\n",
    "* (<) Smaller than\n",
    "* (>=) Larger than or equal to\n",
    "* (<=) Smaller than or equal to\n",
    "* (==) Equal to (pay attention to the fact that the equal sign is double, not one. One equal sign is used for assignments)\n",
    "* (!=) Not equal to\n",
    "* (&) And\n",
    "* ( | ) Or\n"
   ]
  },
  {
   "cell_type": "markdown",
   "metadata": {},
   "source": [
    "#### IMPORTANT! Python will always consider the first ( if ) conditional statement when carrying out an operation. An example:"
   ]
  },
  {
   "cell_type": "code",
   "execution_count": 13,
   "metadata": {},
   "outputs": [
    {
     "name": "stdout",
     "output_type": "stream",
     "text": [
      "2\n",
      "3\n",
      "4\n",
      "8\n",
      "9\n",
      "10\n",
      "11\n"
     ]
    }
   ],
   "source": [
    "new_list = [1, 2, 3, 4, 5, 6, 7]\n",
    "\n",
    "\n",
    "for x in new_list:\n",
    "    if x > 3:\n",
    "        print (x + 4)\n",
    "    elif x > 5:\n",
    "        print (x + 2)\n",
    "    else:\n",
    "        print (x + 1)"
   ]
  },
  {
   "cell_type": "markdown",
   "metadata": {},
   "source": [
    "As you can see, our for loop did not add 2 to the numbers 6 and 7 even though they were larger than 5 as stated in the second condition. This is because when the first ( if ) and other ( elif)  conditions are related to the same elements, Python's priority is the first condition. Python added 4 to all elements larger than 3 and did not let any other conditional operations to be performed on the same elements. This is a main rule of conditional statements in Python loops. If a certain operation is performed on the elements with the first condition, the second condition's operation is not performed on the same elements. The order of loops with conditional statements is from the top to the bottom. First comes if, then elif and then else."
   ]
  },
  {
   "cell_type": "markdown",
   "metadata": {},
   "source": [
    "#### While Statements (While Loops)\n",
    "\n",
    "While statements repeat an action until a certain condition is met. See the example below:"
   ]
  },
  {
   "cell_type": "code",
   "execution_count": 14,
   "metadata": {},
   "outputs": [
    {
     "name": "stdout",
     "output_type": "stream",
     "text": [
      "0\n",
      "1\n",
      "2\n",
      "3\n",
      "4\n",
      "5\n",
      "6\n",
      "7\n",
      "8\n",
      "9\n",
      "b_var is now equal to a_var\n"
     ]
    }
   ],
   "source": [
    "a_var = 10\n",
    "b_var = 0\n",
    "\n",
    "# Print b_var and add 1 to it until it is equal to a_var\n",
    "while b_var < a_var:\n",
    "    print (b_var)\n",
    "    b_var += 1\n",
    "print (\"b_var is now equal to a_var\") # Note that this is outside the indent of the \n",
    "                                      # while statement and is printed only after the condition is fulfilled. "
   ]
  },
  {
   "cell_type": "markdown",
   "metadata": {},
   "source": [
    "### Exercises\n",
    "\n",
    "* Define a list with 8 elements. Write a for loop to iterate over the elements to add 3 to each one.\n",
    "* Define a dictionary with 3 keys. Each key should hold a list with 6 elements. Write a for loop to divide each element of the list in the second key by 5.\n",
    "* Define a list with 15 elements. Write a conditional for loop that will add 6 to all the values smaller than 8 and substract 7 from all the values larger than 9.\n",
    "* Define a list with 12 elements. Write a conditional for loop that will multiply every value smaller than 7 with two, divide every value larger than 10 by 3 and add 1 to the values that do not meet these conditions."
   ]
  }
 ],
 "metadata": {
  "kernelspec": {
   "display_name": "Python 3 (ipykernel)",
   "language": "python",
   "name": "python3"
  },
  "language_info": {
   "codemirror_mode": {
    "name": "ipython",
    "version": 3
   },
   "file_extension": ".py",
   "mimetype": "text/x-python",
   "name": "python",
   "nbconvert_exporter": "python",
   "pygments_lexer": "ipython3",
   "version": "3.9.12"
  }
 },
 "nbformat": 4,
 "nbformat_minor": 2
}
