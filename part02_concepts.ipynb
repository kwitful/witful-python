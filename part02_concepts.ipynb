{
 "cells": [
  {
   "cell_type": "markdown",
   "metadata": {},
   "source": [
    "# Part 2 - Main Python Concepts\n",
    "by Kaan Kabalak @ witfuldata.com"
   ]
  },
  {
   "cell_type": "markdown",
   "metadata": {},
   "source": [
    "## Data Types\n",
    "\n",
    "A data type can actually be understood by answering a simle question: How does Python categorize what we write? For example, to our understanding, there is no difference between 12 and \"12\" (the same number in quatation marks). However, for Python, these two are very different things. It will carry out a different operation for each. That's why learning about data types is important. This way you can have an idea about how Python is going to perceive what you write. "
   ]
  },
  {
   "cell_type": "markdown",
   "metadata": {},
   "source": [
    "### Regular Variable Data Types\n",
    "\n",
    "- Integer (int)\n",
    "\n",
    "These are numbers without decimal points.\n",
    "\n",
    "- Float (float)\n",
    "\n",
    "These are numbers with decimal points. \n",
    "\n",
    "- String (str)\n",
    "\n",
    "They consist of text data. They are typed within quatation marks (\" \")\n",
    "\n",
    "- Boolean (bool)\n",
    "\n",
    "Booleans have only two possible values: True and False. They are important for understanding the main logic of programming and forming control flow statements (which we will talk about more in the upcoming chapters)\n",
    "\n",
    "\n",
    "Note: The data type of a variable can be understood by using the type () function. Check out the code blocks below for examples. "
   ]
  },
  {
   "cell_type": "code",
   "execution_count": 1,
   "metadata": {},
   "outputs": [
    {
     "data": {
      "text/plain": [
       "int"
      ]
     },
     "execution_count": 1,
     "metadata": {},
     "output_type": "execute_result"
    }
   ],
   "source": [
    "# Integer\n",
    "a_var = 4\n",
    "type (a_var)"
   ]
  },
  {
   "cell_type": "code",
   "execution_count": 2,
   "metadata": {},
   "outputs": [
    {
     "data": {
      "text/plain": [
       "float"
      ]
     },
     "execution_count": 2,
     "metadata": {},
     "output_type": "execute_result"
    }
   ],
   "source": [
    "# Float\n",
    "b_var = 3.75\n",
    "type (b_var)"
   ]
  },
  {
   "cell_type": "code",
   "execution_count": 3,
   "metadata": {},
   "outputs": [
    {
     "data": {
      "text/plain": [
       "bool"
      ]
     },
     "execution_count": 3,
     "metadata": {},
     "output_type": "execute_result"
    }
   ],
   "source": [
    "# Boolean\n",
    "c_var = True\n",
    "type(c_var)"
   ]
  },
  {
   "cell_type": "code",
   "execution_count": 4,
   "metadata": {},
   "outputs": [
    {
     "data": {
      "text/plain": [
       "2"
      ]
     },
     "execution_count": 4,
     "metadata": {},
     "output_type": "execute_result"
    }
   ],
   "source": [
    "# Booleans are also integers. (True = 1, False = 0)\n",
    "boo_1 = True\n",
    "boo_2 = True\n",
    "boo_3 = False\n",
    "\n",
    "# The following is equal to 1 (True) + 1 (True) + 0 (False)\n",
    "boo_1 + boo_2 + boo_3"
   ]
  },
  {
   "cell_type": "code",
   "execution_count": 5,
   "metadata": {},
   "outputs": [
    {
     "data": {
      "text/plain": [
       "str"
      ]
     },
     "execution_count": 5,
     "metadata": {},
     "output_type": "execute_result"
    }
   ],
   "source": [
    "# String\n",
    "d_var = \"hello 123\"          \n",
    "type (d_var)"
   ]
  },
  {
   "cell_type": "markdown",
   "metadata": {},
   "source": [
    "It is also possible to do operations with strings. "
   ]
  },
  {
   "cell_type": "code",
   "execution_count": 6,
   "metadata": {},
   "outputs": [
    {
     "data": {
      "text/plain": [
       "'hello 123welcome'"
      ]
     },
     "execution_count": 6,
     "metadata": {},
     "output_type": "execute_result"
    }
   ],
   "source": [
    "# Add string\n",
    "d_var + \"welcome\""
   ]
  },
  {
   "cell_type": "code",
   "execution_count": 7,
   "metadata": {},
   "outputs": [
    {
     "data": {
      "text/plain": [
       "'hello 123 welcome'"
      ]
     },
     "execution_count": 7,
     "metadata": {},
     "output_type": "execute_result"
    }
   ],
   "source": [
    "# Add an empty space string in between\n",
    "d_var + ' ' + \"welcome\""
   ]
  },
  {
   "cell_type": "markdown",
   "metadata": {},
   "source": [
    "One thing that is very important about strings is that they are actually a very good introduction to the concept of methods. Technically, methods are functions that are tied to objects. For example, we have the d variable that holds a string as a value. It is now a string object. We can use special functions that are tied to this string object. They will do something to the object which they are tied to."
   ]
  },
  {
   "cell_type": "code",
   "execution_count": 8,
   "metadata": {},
   "outputs": [
    {
     "data": {
      "text/plain": [
       "'HELLO 123'"
      ]
     },
     "execution_count": 8,
     "metadata": {},
     "output_type": "execute_result"
    }
   ],
   "source": [
    "# String method - upper\n",
    "d_var.upper()"
   ]
  },
  {
   "cell_type": "code",
   "execution_count": 9,
   "metadata": {},
   "outputs": [
    {
     "data": {
      "text/plain": [
       "'Hello 123'"
      ]
     },
     "execution_count": 9,
     "metadata": {},
     "output_type": "execute_result"
    }
   ],
   "source": [
    "# String method - title\n",
    "d_var.title()"
   ]
  },
  {
   "cell_type": "code",
   "execution_count": 10,
   "metadata": {},
   "outputs": [
    {
     "data": {
      "text/plain": [
       "['hello', '123']"
      ]
     },
     "execution_count": 10,
     "metadata": {},
     "output_type": "execute_result"
    }
   ],
   "source": [
    "# String method - split\n",
    "d_var.split()"
   ]
  },
  {
   "cell_type": "code",
   "execution_count": 11,
   "metadata": {},
   "outputs": [
    {
     "data": {
      "text/plain": [
       "1"
      ]
     },
     "execution_count": 11,
     "metadata": {},
     "output_type": "execute_result"
    }
   ],
   "source": [
    "# String method - count\n",
    "d_var.count('o')\n"
   ]
  },
  {
   "cell_type": "markdown",
   "metadata": {},
   "source": [
    "### Collection Variables\n",
    "\n",
    "- Lists\n",
    "\n",
    "Lists are made up of one or more elements. They can hold values of different data types\n",
    "\n",
    "- Tuples\n",
    "\n",
    "Tuples are like lists in may ways but they have different features and methods. We will go a bit into the details of this difference.\n",
    "\n",
    "- Sets\n",
    "\n",
    "Sets only hold unique values. For example, if you try to add the same string object multiple times, it will take into consideration only the first one. \n",
    "\n",
    "- Dictionaries\n",
    "\n",
    "For data science and analysis implementations, understanding how dictionaries are structured is very important. Many objects (like data frames) are structured in a way very similar to dictionaries. So, what are they and why are they called dictionaries? To understand, you can think of a real dictionary. A real dictionary has words (keys) and the meaning of these words (values). The structure of dictionaries in Python is very similar. They consist of key-value pairs. Keys are usually typed like strings and the values can consist of different data types such as single integer-float values or lists. Keys can even hold other dictionaries as values.  "
   ]
  },
  {
   "cell_type": "code",
   "execution_count": 12,
   "metadata": {},
   "outputs": [
    {
     "data": {
      "text/plain": [
       "['Casper', 'Milky', 'Felinus']"
      ]
     },
     "execution_count": 12,
     "metadata": {},
     "output_type": "execute_result"
    }
   ],
   "source": [
    "# List\n",
    "cats = [\"Casper\", \"Milky\", \"Felinus\"]\n",
    "cats"
   ]
  },
  {
   "cell_type": "markdown",
   "metadata": {},
   "source": [
    "Just like string objects, list objects have methods. For example, we can append stuff to them. "
   ]
  },
  {
   "cell_type": "code",
   "execution_count": 13,
   "metadata": {},
   "outputs": [
    {
     "data": {
      "text/plain": [
       "['Casper', 'Milky', 'Felinus', 'Winkers']"
      ]
     },
     "execution_count": 13,
     "metadata": {},
     "output_type": "execute_result"
    }
   ],
   "source": [
    "# List method - append\n",
    "cats.append(\"Winkers\")\n",
    "cats"
   ]
  },
  {
   "cell_type": "code",
   "execution_count": 14,
   "metadata": {},
   "outputs": [
    {
     "data": {
      "text/plain": [
       "[90, 90, 88, 88, 88, 66, 64, 51, 27, 27, 17, 17]"
      ]
     },
     "execution_count": 14,
     "metadata": {},
     "output_type": "execute_result"
    }
   ],
   "source": [
    "# List method - sort\n",
    "student_grades = [27, 66, 88, 64, 90, 17, 27, 88, 51, 17, 90, 88]\n",
    "student_grades.sort(reverse=True) # This reverse keyword is known as a argument which tells Python how to implement the method function\n",
    "student_grades"
   ]
  },
  {
   "cell_type": "code",
   "execution_count": 15,
   "metadata": {},
   "outputs": [
    {
     "data": {
      "text/plain": [
       "[17, 17, 27, 27, 51, 64, 66, 88, 88, 88, 90, 90]"
      ]
     },
     "execution_count": 15,
     "metadata": {},
     "output_type": "execute_result"
    }
   ],
   "source": [
    "student_grades.sort(reverse=False)\n",
    "student_grades"
   ]
  },
  {
   "cell_type": "code",
   "execution_count": 16,
   "metadata": {},
   "outputs": [
    {
     "data": {
      "text/plain": [
       "3"
      ]
     },
     "execution_count": 16,
     "metadata": {},
     "output_type": "execute_result"
    }
   ],
   "source": [
    "# List method - count\n",
    "student_grades.count(88)"
   ]
  },
  {
   "cell_type": "code",
   "execution_count": 17,
   "metadata": {},
   "outputs": [
    {
     "data": {
      "text/plain": [
       "['Milky', 'Felinus', 'Winkers']"
      ]
     },
     "execution_count": 17,
     "metadata": {},
     "output_type": "execute_result"
    }
   ],
   "source": [
    "# List method - remove\n",
    "cats.remove(\"Casper\")\n",
    "cats"
   ]
  },
  {
   "cell_type": "code",
   "execution_count": 18,
   "metadata": {},
   "outputs": [
    {
     "data": {
      "text/plain": [
       "['Milky', 'Felinus']"
      ]
     },
     "execution_count": 18,
     "metadata": {},
     "output_type": "execute_result"
    }
   ],
   "source": [
    "# List method - pop (remove the last element)\n",
    "cats.pop()\n",
    "cats"
   ]
  },
  {
   "cell_type": "markdown",
   "metadata": {},
   "source": [
    "Tuples are defined like list, but with normal parantheses ( ) instead of brackets [ ]."
   ]
  },
  {
   "cell_type": "code",
   "execution_count": 19,
   "metadata": {},
   "outputs": [],
   "source": [
    "# Tuples\n",
    "student_numbers = (2345, 1231, 4543)"
   ]
  },
  {
   "cell_type": "markdown",
   "metadata": {},
   "source": [
    "Down below we have a dictionary that has a different variable type as its values. For the keys 'A' and 'B', it has lists. For the key 'C' it has a single value. For the key 'D' it has a string."
   ]
  },
  {
   "cell_type": "code",
   "execution_count": 20,
   "metadata": {},
   "outputs": [],
   "source": [
    "# Dictionaries (string-like keys and various-type values)\n",
    "student_category = {'A' : [2345, 1231, 4543, 'no  number'], 'B' : [1258, 1340], 'C' : 1147, 'D' : 'hello'}\n"
   ]
  },
  {
   "cell_type": "markdown",
   "metadata": {},
   "source": [
    "The following variable is of set data type. Notice how we have written 27 and 88 twice, but it only printed out the unique occurences of these repeating values."
   ]
  },
  {
   "cell_type": "code",
   "execution_count": 21,
   "metadata": {},
   "outputs": [
    {
     "data": {
      "text/plain": [
       "{17, 27, 64, 66, 88, 90}"
      ]
     },
     "execution_count": 21,
     "metadata": {},
     "output_type": "execute_result"
    }
   ],
   "source": [
    "# Sets\n",
    "unique_grades = {27, 66, 88, 64, 90, 17, 27, 88}\n",
    "unique_grades"
   ]
  },
  {
   "cell_type": "markdown",
   "metadata": {},
   "source": [
    "##  Index, Slicing, Accessing and Assigning Values\n",
    "\n",
    "Understading these concpets is important because many variable types used for data science analysis are structured in a similar way and their values can be accessed through slicing.\n",
    "\n",
    "- Python starts counting from 0 (the index of elements start with 0, not 1). Yes, it is kinda weird.\n",
    "\n",
    "- Elements can be accesses using index-based slicing:\n",
    "\n",
    "    * Letters from strings\n",
    "    * Elements from lists and tuples\n",
    "    * Values from dictionary keys (The keys themselves are accessed with their own names, not with index numbers)\n",
    "\n"
   ]
  },
  {
   "cell_type": "code",
   "execution_count": 22,
   "metadata": {},
   "outputs": [
    {
     "data": {
      "text/plain": [
       "1"
      ]
     },
     "execution_count": 22,
     "metadata": {},
     "output_type": "execute_result"
    }
   ],
   "source": [
    "# List index\n",
    "a_list = [1,2,3,4,5]\n",
    "\n",
    "# To get a specific element, we use brackets [] just next to the variable name and specify the index number of the element\n",
    "a_list[0]"
   ]
  },
  {
   "cell_type": "markdown",
   "metadata": {},
   "source": [
    "As you can see this printed out the first element of the list."
   ]
  },
  {
   "cell_type": "code",
   "execution_count": 23,
   "metadata": {},
   "outputs": [
    {
     "data": {
      "text/plain": [
       "5"
      ]
     },
     "execution_count": 23,
     "metadata": {},
     "output_type": "execute_result"
    }
   ],
   "source": [
    "# Print out the 5th element with index number 4\n",
    "a_list [4]"
   ]
  },
  {
   "cell_type": "code",
   "execution_count": 24,
   "metadata": {},
   "outputs": [
    {
     "ename": "IndexError",
     "evalue": "list index out of range",
     "output_type": "error",
     "traceback": [
      "\u001b[1;31m---------------------------------------------------------------------------\u001b[0m",
      "\u001b[1;31mIndexError\u001b[0m                                Traceback (most recent call last)",
      "Input \u001b[1;32mIn [24]\u001b[0m, in \u001b[0;36m<cell line: 1>\u001b[1;34m()\u001b[0m\n\u001b[1;32m----> 1\u001b[0m \u001b[43ma_list\u001b[49m\u001b[43m \u001b[49m\u001b[43m[\u001b[49m\u001b[38;5;241;43m5\u001b[39;49m\u001b[43m]\u001b[49m\n",
      "\u001b[1;31mIndexError\u001b[0m: list index out of range"
     ]
    }
   ],
   "source": [
    "a_list [5]"
   ]
  },
  {
   "cell_type": "markdown",
   "metadata": {},
   "source": [
    "When we try to access the sixth element (with index number 5), we come across an error because our list does not have a sixth element."
   ]
  },
  {
   "cell_type": "markdown",
   "metadata": {},
   "source": [
    "Okay, here is the point where it gets a bit weird. I suggest that you play around with it yourselves to understand.\n",
    "\n",
    " We can access elements with range-based slicing. We specify a range starting with the index number of one of the elements, followed by : and then the (index number - 1) of the other element. For example:\n",
    "\n",
    " When we specify [0:4] as a range, we will access all the elements from the one with the index number 0 (the first element) to the one with the index number 3 (the fourth element).\n",
    " It is quite weird because it takes the index number into consideration before : , but does not do the same after : \n",
    "\n",
    " To feel more comfortable with it we can say something like this:\n",
    "\n",
    " - Before : Python counts in its own way (starting from 0)\n",
    " - After : Python counts in the human way (starting from 1)"
   ]
  },
  {
   "cell_type": "code",
   "execution_count": 25,
   "metadata": {},
   "outputs": [
    {
     "data": {
      "text/plain": [
       "[2, 3, 4]"
      ]
     },
     "execution_count": 25,
     "metadata": {},
     "output_type": "execute_result"
    }
   ],
   "source": [
    "# Range-based slicing\n",
    "a_list = [1,2,3,4,5]\n",
    "a_list[1:4] # The first index number (before :) is inclusive, the second index number (after :) is exclusive"
   ]
  },
  {
   "cell_type": "markdown",
   "metadata": {},
   "source": [
    "As you can see, this printed out the elements starting from index number 1 all the way up to the element with index number 3 (From the second element to the fourth element)"
   ]
  },
  {
   "cell_type": "code",
   "execution_count": 26,
   "metadata": {},
   "outputs": [
    {
     "data": {
      "text/plain": [
       "[1, 2, 3, 4]"
      ]
     },
     "execution_count": 26,
     "metadata": {},
     "output_type": "execute_result"
    }
   ],
   "source": [
    "a_list[:4] # starting with : means that you want all up to a certain element (in this case, the fourth element with index number 3)"
   ]
  },
  {
   "cell_type": "markdown",
   "metadata": {},
   "source": [
    "You can also carry out arithmetic operations with list elements that you accessed by slicing. "
   ]
  },
  {
   "cell_type": "code",
   "execution_count": 27,
   "metadata": {},
   "outputs": [
    {
     "data": {
      "text/plain": [
       "8"
      ]
     },
     "execution_count": 27,
     "metadata": {},
     "output_type": "execute_result"
    }
   ],
   "source": [
    "# Arithmetic operations with list elements\n",
    "a_list[2] + a_list[4]"
   ]
  },
  {
   "cell_type": "markdown",
   "metadata": {},
   "source": [
    "Tuple values can also be accessed with index numbers."
   ]
  },
  {
   "cell_type": "code",
   "execution_count": 28,
   "metadata": {},
   "outputs": [
    {
     "data": {
      "text/plain": [
       "2345"
      ]
     },
     "execution_count": 28,
     "metadata": {},
     "output_type": "execute_result"
    }
   ],
   "source": [
    "# Tuple index\n",
    "student_numbers = (2345, 1231, 4543)\n",
    "student_numbers[0]"
   ]
  },
  {
   "cell_type": "markdown",
   "metadata": {},
   "source": [
    "As we have said before, the dictionary keys are accesses through their own names"
   ]
  },
  {
   "cell_type": "code",
   "execution_count": 29,
   "metadata": {},
   "outputs": [
    {
     "data": {
      "text/plain": [
       "[2345, 1231, 4543, 'no_number']"
      ]
     },
     "execution_count": 29,
     "metadata": {},
     "output_type": "execute_result"
    }
   ],
   "source": [
    "# Dictionary keys\n",
    "student_category = {'A' : [2345, 1231, 4543, 'no_number'], 'B' : [1258, 1340], 'C' : 1147, 'D' : 'hello'}\n",
    "student_category['A']"
   ]
  },
  {
   "cell_type": "markdown",
   "metadata": {},
   "source": [
    "We can, however, access the values that are held by keys through index numbers. For example, we want to access the second element (with index number 1) of the list that is held by key 'A'"
   ]
  },
  {
   "cell_type": "code",
   "execution_count": 30,
   "metadata": {},
   "outputs": [
    {
     "data": {
      "text/plain": [
       "1231"
      ]
     },
     "execution_count": 30,
     "metadata": {},
     "output_type": "execute_result"
    }
   ],
   "source": [
    "# Dictionary key values and index numbers\n",
    "student_category['A'][1]"
   ]
  },
  {
   "cell_type": "code",
   "execution_count": 31,
   "metadata": {},
   "outputs": [
    {
     "data": {
      "text/plain": [
       "1340"
      ]
     },
     "execution_count": 31,
     "metadata": {},
     "output_type": "execute_result"
    }
   ],
   "source": [
    "student_category['B'][1]"
   ]
  },
  {
   "cell_type": "code",
   "execution_count": 32,
   "metadata": {},
   "outputs": [
    {
     "ename": "TypeError",
     "evalue": "'int' object is not subscriptable",
     "output_type": "error",
     "traceback": [
      "\u001b[1;31m---------------------------------------------------------------------------\u001b[0m",
      "\u001b[1;31mTypeError\u001b[0m                                 Traceback (most recent call last)",
      "Input \u001b[1;32mIn [32]\u001b[0m, in \u001b[0;36m<cell line: 2>\u001b[1;34m()\u001b[0m\n\u001b[0;32m      1\u001b[0m \u001b[38;5;66;03m# 'int' object cannot be sliced\u001b[39;00m\n\u001b[1;32m----> 2\u001b[0m \u001b[43mstudent_category\u001b[49m\u001b[43m[\u001b[49m\u001b[38;5;124;43m'\u001b[39;49m\u001b[38;5;124;43mC\u001b[39;49m\u001b[38;5;124;43m'\u001b[39;49m\u001b[43m]\u001b[49m\u001b[43m[\u001b[49m\u001b[38;5;241;43m0\u001b[39;49m\u001b[43m]\u001b[49m\n",
      "\u001b[1;31mTypeError\u001b[0m: 'int' object is not subscriptable"
     ]
    }
   ],
   "source": [
    "# 'int' object cannot be sliced\n",
    "student_category['C'][0]"
   ]
  },
  {
   "cell_type": "code",
   "execution_count": 33,
   "metadata": {},
   "outputs": [
    {
     "data": {
      "text/plain": [
       "'e'"
      ]
     },
     "execution_count": 33,
     "metadata": {},
     "output_type": "execute_result"
    }
   ],
   "source": [
    "# Strings can be sliced\n",
    "student_category['D'][1]"
   ]
  },
  {
   "cell_type": "markdown",
   "metadata": {},
   "source": [
    "## Mutable and Immutable Variables\n",
    "\n",
    "Mutable means changeable. The most important characteristics of mutable object are :\n",
    "\n",
    "    * When you assign a mutable variable to a new variable, whatever you do on that new variable will also affect the \n",
    "    original variable.\n",
    "\n",
    "    * You can assign-remove elements with methods or index-based assigning. The assignments and removals will be permanent. It will change the variable itself.\n",
    "\n",
    "The most important characteristics of immutable objects are:\n",
    "\n",
    "    * When you assign an immutable variable to a new variable, that new variable is treated as a completely diffent one. The things you do on the new variable will not affect the original one. \n",
    "\n",
    "    * You cannot assign-remove elements with methods or index-based slicing. The methods do not change anything. They just print out how the variable would look like with the applied method. To change something you have to actually reassign the variable to itself like s_var = s_var.upper ( ) or use an assignment operator like s_var += \"hello again\"\n",
    "\n",
    "\n",
    "\n",
    "\n",
    "\n",
    "\n",
    "- Mutables  are:\n",
    "\n",
    "    * Lists\n",
    "    * Sets\n",
    "    * Dictionaries\n",
    "\n",
    "- Immutables are:\n",
    "\n",
    "    * Strings\n",
    "    * Tuples\n",
    "    * Integers\n",
    "    * Floats\n"
   ]
  },
  {
   "cell_type": "code",
   "execution_count": 34,
   "metadata": {},
   "outputs": [
    {
     "data": {
      "text/plain": [
       "[1, 2, 3, 4, 5, 6, 7]"
      ]
     },
     "execution_count": 34,
     "metadata": {},
     "output_type": "execute_result"
    }
   ],
   "source": [
    "# Lists mutability\n",
    "a_list = [1, 2, 3, 4, 5, 6, 7]\n",
    "a_list"
   ]
  },
  {
   "cell_type": "code",
   "execution_count": 35,
   "metadata": {},
   "outputs": [
    {
     "data": {
      "text/plain": [
       "[1, 14, 3, 4, 5, 6, 7]"
      ]
     },
     "execution_count": 35,
     "metadata": {},
     "output_type": "execute_result"
    }
   ],
   "source": [
    "# Reasssing a value \n",
    "a_list [1] = 14\n",
    "a_list"
   ]
  },
  {
   "cell_type": "code",
   "execution_count": 36,
   "metadata": {},
   "outputs": [
    {
     "data": {
      "text/plain": [
       "[1, 14, 3, 4, 5, 6, 7]"
      ]
     },
     "execution_count": 36,
     "metadata": {},
     "output_type": "execute_result"
    }
   ],
   "source": [
    "# Assign a_list to new_a_list\n",
    "new_a_list = a_list\n",
    "new_a_list"
   ]
  },
  {
   "cell_type": "code",
   "execution_count": 37,
   "metadata": {},
   "outputs": [
    {
     "data": {
      "text/plain": [
       "[1, 14, 3, 4, 5, 6, 7, 8]"
      ]
     },
     "execution_count": 37,
     "metadata": {},
     "output_type": "execute_result"
    }
   ],
   "source": [
    "# Change something in new_a_list or append a value\n",
    "new_a_list.append (8)\n",
    "\n",
    "# Check how the original list also changed\n",
    "a_list"
   ]
  },
  {
   "cell_type": "markdown",
   "metadata": {},
   "source": [
    "Whatever we do on the new_a_list variable affects the original a_list variable. This is because lists are mutable objects. Now let's try the same with tuples"
   ]
  },
  {
   "cell_type": "code",
   "execution_count": 38,
   "metadata": {},
   "outputs": [
    {
     "data": {
      "text/plain": [
       "2"
      ]
     },
     "execution_count": 38,
     "metadata": {},
     "output_type": "execute_result"
    }
   ],
   "source": [
    "# Define a tuple\n",
    "a_tuple = (1,2,3,4,5)\n",
    "\n",
    "# Access with index\n",
    "a_tuple[1]"
   ]
  },
  {
   "cell_type": "code",
   "execution_count": 39,
   "metadata": {},
   "outputs": [
    {
     "ename": "TypeError",
     "evalue": "'tuple' object does not support item assignment",
     "output_type": "error",
     "traceback": [
      "\u001b[1;31m---------------------------------------------------------------------------\u001b[0m",
      "\u001b[1;31mTypeError\u001b[0m                                 Traceback (most recent call last)",
      "Input \u001b[1;32mIn [39]\u001b[0m, in \u001b[0;36m<cell line: 2>\u001b[1;34m()\u001b[0m\n\u001b[0;32m      1\u001b[0m \u001b[38;5;66;03m# Try to reassing a value\u001b[39;00m\n\u001b[1;32m----> 2\u001b[0m a_tuple[\u001b[38;5;241m1\u001b[39m] \u001b[38;5;241m=\u001b[39m \u001b[38;5;241m14\u001b[39m\n",
      "\u001b[1;31mTypeError\u001b[0m: 'tuple' object does not support item assignment"
     ]
    }
   ],
   "source": [
    "# Try to reassing a value\n",
    "a_tuple[1] = 14"
   ]
  },
  {
   "cell_type": "markdown",
   "metadata": {},
   "source": [
    "As you can see, we cannot assign values to tuples like we do with lists. This is because tuples are immutable variables. "
   ]
  },
  {
   "cell_type": "markdown",
   "metadata": {},
   "source": [
    "Another important concept is the index and immutability of strings:"
   ]
  },
  {
   "cell_type": "code",
   "execution_count": 40,
   "metadata": {},
   "outputs": [
    {
     "data": {
      "text/plain": [
       "'D'"
      ]
     },
     "execution_count": 40,
     "metadata": {},
     "output_type": "execute_result"
    }
   ],
   "source": [
    "# String index (Access the 1st letter with index number 0)\n",
    "a_str = \"Dog\"\n",
    "a_str[0]"
   ]
  },
  {
   "cell_type": "code",
   "execution_count": 41,
   "metadata": {},
   "outputs": [
    {
     "ename": "TypeError",
     "evalue": "'str' object does not support item assignment",
     "output_type": "error",
     "traceback": [
      "\u001b[1;31m---------------------------------------------------------------------------\u001b[0m",
      "\u001b[1;31mTypeError\u001b[0m                                 Traceback (most recent call last)",
      "Input \u001b[1;32mIn [41]\u001b[0m, in \u001b[0;36m<cell line: 2>\u001b[1;34m()\u001b[0m\n\u001b[0;32m      1\u001b[0m \u001b[38;5;66;03m# Try reassigning a value\u001b[39;00m\n\u001b[1;32m----> 2\u001b[0m a_str[\u001b[38;5;241m0\u001b[39m] \u001b[38;5;241m=\u001b[39m \u001b[38;5;124m\"\u001b[39m\u001b[38;5;124mK\u001b[39m\u001b[38;5;124m\"\u001b[39m\n",
      "\u001b[1;31mTypeError\u001b[0m: 'str' object does not support item assignment"
     ]
    }
   ],
   "source": [
    "# Try reassigning a value\n",
    "a_str[0] = \"K\""
   ]
  },
  {
   "cell_type": "markdown",
   "metadata": {},
   "source": [
    "Once again, we come across an error. This is due to the fact that strings are immutable."
   ]
  },
  {
   "cell_type": "markdown",
   "metadata": {},
   "source": [
    "### Exercises\n",
    "\n",
    "- Define two lists. Take the sum of the 3rd element of the first list and the 4th element of the second list.\n",
    "- Access the third letter of a word with index-based string slicing\n",
    "- Define a tuple and access its 3rd element\n",
    "- Define a dictionary with 3 keys. The first two keys should hold two lists as values and the third key should hold a string. Access the third value of the second key with slicing. \n",
    "- Define a list with 5 elements. Reassing a new value to the 2nd element\n",
    "- Define a list with an arbitrary number of elements. Multiply the 5th and the 7th elements. Access those elements with their index numbers. \n",
    "- Define a list. Access the first 3 elements\n",
    "- Define a list. Access all elements up to the 7th element"
   ]
  }
 ],
 "metadata": {
  "kernelspec": {
   "display_name": "Python 3 (ipykernel)",
   "language": "python",
   "name": "python3"
  },
  "language_info": {
   "codemirror_mode": {
    "name": "ipython",
    "version": 3
   },
   "file_extension": ".py",
   "mimetype": "text/x-python",
   "name": "python",
   "nbconvert_exporter": "python",
   "pygments_lexer": "ipython3",
   "version": "3.9.12"
  }
 },
 "nbformat": 4,
 "nbformat_minor": 2
}
