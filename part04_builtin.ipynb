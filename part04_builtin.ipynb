{
 "cells": [
  {
   "cell_type": "markdown",
   "metadata": {},
   "source": [
    "# Part 4 - Some Useful Built-in Functions\n",
    "by Kaan Kabalak @witfuldata.com"
   ]
  },
  {
   "cell_type": "markdown",
   "metadata": {},
   "source": [
    "There are different flavors when it comes to Python functions and methods (object functions):\n",
    "\n",
    "* Programmer-defined : The ones that we define and use\n",
    "* Library functions : The ones that were defined in libraries. The library containing the function or the method has to be imported first.\n",
    "* Built-in functions : The functions that were pre-defined in Python. It is not necessary to import anything. They are already available whenever we use Python\n",
    "\n",
    "Some of these built-in functions can be very useful. Even when you use data analysis/science libraries, you will need to use some built-in function. Let's take a look at them!"
   ]
  },
  {
   "cell_type": "markdown",
   "metadata": {},
   "source": [
    "## len ( )\n",
    "The len function returns the length of an object. With this function we can check how many elements there are in collection variables like lists or how many characters there are in strings. "
   ]
  },
  {
   "cell_type": "code",
   "execution_count": 1,
   "metadata": {},
   "outputs": [
    {
     "data": {
      "text/plain": [
       "8"
      ]
     },
     "execution_count": 1,
     "metadata": {},
     "output_type": "execute_result"
    }
   ],
   "source": [
    "# Length of a list\n",
    "a_list = [1, 2, 3, 4, 5, 6, 7, 8]\n",
    "len (a_list)"
   ]
  },
  {
   "cell_type": "code",
   "execution_count": 2,
   "metadata": {},
   "outputs": [
    {
     "data": {
      "text/plain": [
       "54"
      ]
     },
     "execution_count": 2,
     "metadata": {},
     "output_type": "execute_result"
    }
   ],
   "source": [
    "# Length of a string (Note that spaces are also counted as characters)\n",
    "c_var = \"I don't know the number of characters in this sentence\"\n",
    "len (c_var)"
   ]
  },
  {
   "cell_type": "markdown",
   "metadata": {},
   "source": [
    "## enumerate ( )\n",
    "\n",
    "The enumerate function can be used to print out the index numbers of collection variables or do operations with them."
   ]
  },
  {
   "cell_type": "code",
   "execution_count": 3,
   "metadata": {},
   "outputs": [
    {
     "name": "stdout",
     "output_type": "stream",
     "text": [
      "0 1\n",
      "1 2\n",
      "2 3\n",
      "3 4\n",
      "4 5\n",
      "5 6\n",
      "6 7\n",
      "7 8\n"
     ]
    }
   ],
   "source": [
    "a_list = [1, 2, 3, 4, 5, 6, 7, 8]\n",
    "\n",
    "# Print out the index numbers and the corresponding values\n",
    "for x, y in enumerate(a_list):\n",
    "    print (x,y)"
   ]
  },
  {
   "cell_type": "code",
   "execution_count": 4,
   "metadata": {},
   "outputs": [
    {
     "name": "stdout",
     "output_type": "stream",
     "text": [
      "117\n",
      "150\n",
      "209\n",
      "288\n",
      "455\n",
      "784\n",
      "255\n",
      "448\n"
     ]
    }
   ],
   "source": [
    "# Define two lists with the same length\n",
    "nd_list = [13, 15, 19, 24, 35, 56, 17, 28]\n",
    "md_list = [9, 10, 11, 12, 13, 14, 15, 16]\n",
    "\n",
    "# Multiply values with matching indexes\n",
    "for n,x in enumerate(nd_list):\n",
    "    for m, y in enumerate (md_list):\n",
    "         if n == m:\n",
    "              print (x * y)"
   ]
  },
  {
   "cell_type": "markdown",
   "metadata": {},
   "source": [
    "## range ( )\n",
    "\n",
    "The range function repeats an action within a specifies a range. It counts in the Pythonic way, meaning that it starts counting from zero."
   ]
  },
  {
   "cell_type": "code",
   "execution_count": 5,
   "metadata": {},
   "outputs": [
    {
     "name": "stdout",
     "output_type": "stream",
     "text": [
      "0\n",
      "1\n",
      "2\n",
      "3\n",
      "4\n"
     ]
    }
   ],
   "source": [
    "for i in range(5):\n",
    "    print (i)"
   ]
  },
  {
   "cell_type": "markdown",
   "metadata": {},
   "source": [
    "We can also print values in a range between different numbers:"
   ]
  },
  {
   "cell_type": "code",
   "execution_count": 6,
   "metadata": {},
   "outputs": [
    {
     "name": "stdout",
     "output_type": "stream",
     "text": [
      "15\n",
      "16\n",
      "17\n",
      "18\n",
      "19\n",
      "20\n",
      "21\n",
      "22\n",
      "23\n",
      "24\n"
     ]
    }
   ],
   "source": [
    "# Note that this will start at 15 and finish at 24\n",
    "for i in range (15,25):\n",
    "    print (i)"
   ]
  },
  {
   "cell_type": "markdown",
   "metadata": {},
   "source": [
    "While you can use the range function to print values within a certain range, one of the most useful things you can do with it is to have Python repeat an action for a certain number of times. For example:"
   ]
  },
  {
   "cell_type": "code",
   "execution_count": 7,
   "metadata": {},
   "outputs": [
    {
     "data": {
      "text/plain": [
       "80"
      ]
     },
     "execution_count": 7,
     "metadata": {},
     "output_type": "execute_result"
    }
   ],
   "source": [
    "a_var = 10\n",
    "\n",
    "# Add a_var to itself, repeat it in 3 steps:\n",
    "for i in range (3):\n",
    "    a_var += a_var\n",
    "\n",
    "a_var"
   ]
  },
  {
   "cell_type": "markdown",
   "metadata": {},
   "source": [
    "Here is what just happened :\n",
    "\n",
    "* Step 0 --- 10 + 10 = 20\n",
    "* Step 1 --- 20 + 20 = 40\n",
    "* Step 2 --- 40 + 40 = 80\n",
    "\n",
    "The value of a_var changed each time because we used an assignment operator"
   ]
  },
  {
   "cell_type": "code",
   "execution_count": 8,
   "metadata": {},
   "outputs": [
    {
     "data": {
      "text/plain": [
       "'Hello World World World World'"
      ]
     },
     "execution_count": 8,
     "metadata": {},
     "output_type": "execute_result"
    }
   ],
   "source": [
    "s_var = \"Hello\"\n",
    "\n",
    "# Add \"World\" to s_var, repeat it in 4 steps\n",
    "for i in range (4):\n",
    "    s_var += \" World\"\n",
    "\n",
    "\n",
    "s_var"
   ]
  },
  {
   "cell_type": "markdown",
   "metadata": {},
   "source": [
    "## abs ( )\n",
    "\n",
    "This function returns the absolute value. This means that it will give you a positive value even if you pass a negative value to it. "
   ]
  },
  {
   "cell_type": "code",
   "execution_count": 9,
   "metadata": {},
   "outputs": [
    {
     "data": {
      "text/plain": [
       "120"
      ]
     },
     "execution_count": 9,
     "metadata": {},
     "output_type": "execute_result"
    }
   ],
   "source": [
    "n_var = - 120\n",
    "p_var = abs (n_var)\n",
    "p_var"
   ]
  },
  {
   "cell_type": "code",
   "execution_count": 10,
   "metadata": {},
   "outputs": [
    {
     "name": "stdout",
     "output_type": "stream",
     "text": [
      "-250\n",
      "250\n"
     ]
    }
   ],
   "source": [
    "print (200-450)\n",
    "print (abs(200-450))"
   ]
  },
  {
   "cell_type": "markdown",
   "metadata": {},
   "source": [
    "## round ( )\n",
    "\n",
    "This function removes the decimal points from floats. The first arguments specifies the number we want to round, the second argument specifies how many decimal points we want to keep. "
   ]
  },
  {
   "cell_type": "code",
   "execution_count": 11,
   "metadata": {},
   "outputs": [
    {
     "data": {
      "text/plain": [
       "18.7"
      ]
     },
     "execution_count": 11,
     "metadata": {},
     "output_type": "execute_result"
    }
   ],
   "source": [
    "round (18.72, 1) # Keep one decimal point"
   ]
  },
  {
   "cell_type": "code",
   "execution_count": 12,
   "metadata": {},
   "outputs": [
    {
     "data": {
      "text/plain": [
       "19.0"
      ]
     },
     "execution_count": 12,
     "metadata": {},
     "output_type": "execute_result"
    }
   ],
   "source": [
    "round (18.72, 0) # Do not keep any decimal points. This will round the float into the nearest integer."
   ]
  },
  {
   "cell_type": "markdown",
   "metadata": {},
   "source": [
    "## max ()\n",
    "This function will return the maximum value for collection variables like lists. For strings, it will return the character that comes last in alphabetical order. "
   ]
  },
  {
   "cell_type": "code",
   "execution_count": 13,
   "metadata": {},
   "outputs": [
    {
     "data": {
      "text/plain": [
       "734573"
      ]
     },
     "execution_count": 13,
     "metadata": {},
     "output_type": "execute_result"
    }
   ],
   "source": [
    "# The maximum value of a list\n",
    "m_list = [1321, 412652, 42342, 243234, 734573, 9234, 1643]\n",
    "max (m_list)"
   ]
  },
  {
   "cell_type": "code",
   "execution_count": 14,
   "metadata": {},
   "outputs": [
    {
     "data": {
      "text/plain": [
       "'o'"
      ]
     },
     "execution_count": 14,
     "metadata": {},
     "output_type": "execute_result"
    }
   ],
   "source": [
    "# The maximum of a string\n",
    "m_var = \"hello\"\n",
    "max(m_var)"
   ]
  },
  {
   "cell_type": "markdown",
   "metadata": {},
   "source": [
    "## min ( )\n",
    "This function will do the exact opposite of the max function, returning the mininum value. For strings, it will return the character that comes first in alphabetical order. Note that upper cases are always considered to come first in this order."
   ]
  },
  {
   "cell_type": "code",
   "execution_count": 15,
   "metadata": {},
   "outputs": [
    {
     "data": {
      "text/plain": [
       "1321"
      ]
     },
     "execution_count": 15,
     "metadata": {},
     "output_type": "execute_result"
    }
   ],
   "source": [
    "# The minimum value of a list\n",
    "m_list = [1321, 412652, 42342, 243234, 734573, 9234, 1643]\n",
    "min (m_list)"
   ]
  },
  {
   "cell_type": "code",
   "execution_count": 16,
   "metadata": {},
   "outputs": [
    {
     "data": {
      "text/plain": [
       "'e'"
      ]
     },
     "execution_count": 16,
     "metadata": {},
     "output_type": "execute_result"
    }
   ],
   "source": [
    "# The minimum of a string\n",
    "m_var = \"hello\"\n",
    "min (m_var)"
   ]
  },
  {
   "cell_type": "markdown",
   "metadata": {},
   "source": [
    "## map ( )\n",
    "The map function takes a function and applies it to the every element of an iterable object (like a list)\n",
    "\n",
    "You should note that the results of this function are not directly accessible. You need to unpack the results. See how to do this below:"
   ]
  },
  {
   "cell_type": "code",
   "execution_count": 17,
   "metadata": {},
   "outputs": [
    {
     "data": {
      "text/plain": [
       "[4, 4, 7, 6]"
      ]
     },
     "execution_count": 17,
     "metadata": {},
     "output_type": "execute_result"
    }
   ],
   "source": [
    "# Define a list of strings\n",
    "str_list = [\"Jack\", \"John\", \"Michael\", \"Andrew\"]\n",
    "\n",
    "\n",
    "# Map the length function to this list of strings, assign it to a variable\n",
    "name_lenghts = map (len, str_list)\n",
    "\n",
    "# Unpack the map object variable with the * operator in brackets [ ], assign it to a variable\n",
    "lenghts_list = [*name_lenghts]\n",
    "\n",
    "lenghts_list"
   ]
  },
  {
   "cell_type": "code",
   "execution_count": 18,
   "metadata": {},
   "outputs": [
    {
     "data": {
      "text/plain": [
       "['k', 'o', 'm', 'w']"
      ]
     },
     "execution_count": 18,
     "metadata": {},
     "output_type": "execute_result"
    }
   ],
   "source": [
    "# Define a list of strings, find the alphabetical max of each string\n",
    "str_list = [\"jack\", \"john\", \"michael\", \"andrew\"]\n",
    "max_character = map (max, str_list)\n",
    "max_list = [*max_character]\n",
    "max_list"
   ]
  },
  {
   "cell_type": "code",
   "execution_count": 19,
   "metadata": {},
   "outputs": [
    {
     "data": {
      "text/plain": [
       "['a', 'J', 'a', 'a']"
      ]
     },
     "execution_count": 19,
     "metadata": {},
     "output_type": "execute_result"
    }
   ],
   "source": [
    "# Define a list of strings, find the alphabetical min of each string\n",
    "str_list = [\"jack\", \"John\", \"michael\", \"andrew\"] # For John, J will come first because it is upper case\n",
    "min_char = map (min, str_list)\n",
    "min_lst = [*min_char]\n",
    "min_lst"
   ]
  },
  {
   "cell_type": "markdown",
   "metadata": {},
   "source": [
    "### Exercises\n",
    "\n",
    "* Define a string variable with a long sentence as its value. Check its length.\n",
    "* Print the values between the numbers between 27 and 38, starting from 27 and finishing at 37\n",
    "* Substract 7200 from 9450, print the absolute value\n",
    "* Round 12.78 to the nearest integer\n",
    "* Round 14.30 to the nearest integer\n",
    "* Define a list, print its maximum value\n",
    "* Define a list, print its minimum value\n",
    "* Define a list with a mixture of negative and maximum values. Print the absolute values of the elements (use a map function to solve this problem fast)"
   ]
  }
 ],
 "metadata": {
  "kernelspec": {
   "display_name": "Python 3 (ipykernel)",
   "language": "python",
   "name": "python3"
  },
  "language_info": {
   "codemirror_mode": {
    "name": "ipython",
    "version": 3
   },
   "file_extension": ".py",
   "mimetype": "text/x-python",
   "name": "python",
   "nbconvert_exporter": "python",
   "pygments_lexer": "ipython3",
   "version": "3.9.12"
  }
 },
 "nbformat": 4,
 "nbformat_minor": 2
}
